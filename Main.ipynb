{
  "cells": [
    {
      "cell_type": "markdown",
      "metadata": {
        "id": "view-in-github",
        "colab_type": "text"
      },
      "source": [
        "<a href=\"https://colab.research.google.com/github/Dona134/MDA-Amazon-Book-Reviews/blob/main/Main.ipynb\" target=\"_parent\"><img src=\"https://colab.research.google.com/assets/colab-badge.svg\" alt=\"Open In Colab\"/></a>"
      ]
    },
    {
      "cell_type": "markdown",
      "metadata": {
        "id": "WArIbjmD0llw"
      },
      "source": [
        "# Data Preprocessing"
      ]
    },
    {
      "cell_type": "markdown",
      "metadata": {
        "id": "7qVNaDG90lly"
      },
      "source": [
        "## Importing Libraries"
      ]
    },
    {
      "cell_type": "code",
      "execution_count": 1,
      "metadata": {
        "id": "C3jE4pnZ0lly"
      },
      "outputs": [],
      "source": [
        "import numpy as np\n",
        "import pandas as pd\n",
        "import ast\n",
        "import os\n",
        "import re"
      ]
    },
    {
      "cell_type": "markdown",
      "metadata": {
        "id": "JFksly090llz"
      },
      "source": [
        "## Downloading and Extracting the Dataset"
      ]
    },
    {
      "cell_type": "code",
      "execution_count": 2,
      "metadata": {
        "id": "nBqP-FmG0llz",
        "outputId": "6725e990-272a-4d3d-900f-41a208dd59fa",
        "colab": {
          "base_uri": "https://localhost:8080/"
        }
      },
      "outputs": [
        {
          "output_type": "stream",
          "name": "stdout",
          "text": [
            "Dataset URL: https://www.kaggle.com/datasets/mohamedbakhet/amazon-books-reviews\n",
            "License(s): CC0-1.0\n",
            "Downloading amazon-books-reviews.zip to /content\n",
            " 97% 1.04G/1.06G [00:05<00:00, 253MB/s]\n",
            "100% 1.06G/1.06G [00:05<00:00, 215MB/s]\n"
          ]
        }
      ],
      "source": [
        "os.environ['KAGGLE_USERNAME'] = \"aidanaakkaziyeva\"\n",
        "os.environ['KAGGLE_KEY'] = \"609e0e320a0900d9d1865319a498c843\"\n",
        "!kaggle datasets download -d mohamedbakhet/amazon-books-reviews"
      ]
    },
    {
      "cell_type": "code",
      "execution_count": 3,
      "metadata": {
        "id": "CWb4wOwO0ll0"
      },
      "outputs": [],
      "source": [
        "import zipfile\n",
        "\n",
        "# Define the zip file name\n",
        "zip_file = \"amazon-books-reviews.zip\"\n",
        "\n",
        "# Extract all contents\n",
        "with zipfile.ZipFile(zip_file, 'r') as zip_ref:\n",
        "    zip_ref.extractall(\"amazon-books-reviews\")  # Extracts into a folder"
      ]
    },
    {
      "cell_type": "code",
      "execution_count": 4,
      "metadata": {
        "id": "Pq5VGd1L0ll0",
        "outputId": "cbd3c8c6-fd72-475d-c67e-2f65ac5e7c76",
        "colab": {
          "base_uri": "https://localhost:8080/"
        }
      },
      "outputs": [
        {
          "output_type": "execute_result",
          "data": {
            "text/plain": [
              "['Books_rating.csv', 'books_data.csv']"
            ]
          },
          "metadata": {},
          "execution_count": 4
        }
      ],
      "source": [
        "os.listdir(\"amazon-books-reviews\")"
      ]
    },
    {
      "cell_type": "markdown",
      "metadata": {
        "id": "9jpeNV3D0ll1"
      },
      "source": [
        "## Loading the Books Data"
      ]
    },
    {
      "cell_type": "code",
      "execution_count": 5,
      "metadata": {
        "id": "rnVEAIA60ll1"
      },
      "outputs": [],
      "source": [
        "books_data = pd.read_csv(\"amazon-books-reviews/books_data.csv\")"
      ]
    },
    {
      "cell_type": "code",
      "execution_count": 6,
      "metadata": {
        "id": "rQ5d1Aqg0ll1",
        "outputId": "ea8b20c8-af4a-436c-a31e-ee4836616e8e",
        "colab": {
          "base_uri": "https://localhost:8080/",
          "height": 590
        }
      },
      "outputs": [
        {
          "output_type": "execute_result",
          "data": {
            "text/plain": [
              "                                               Title  \\\n",
              "0                     Its Only Art If Its Well Hung!   \n",
              "1                           Dr. Seuss: American Icon   \n",
              "2              Wonderful Worship in Smaller Churches   \n",
              "3                      Whispers of the Wicked Saints   \n",
              "4  Nation Dance: Religion, Identity and Cultural ...   \n",
              "\n",
              "                                         description              authors  \\\n",
              "0                                                NaN     ['Julie Strain']   \n",
              "1  Philip Nel takes a fascinating look into the k...       ['Philip Nel']   \n",
              "2  This resource includes twelve principles in un...     ['David R. Ray']   \n",
              "3  Julia Thomas finds her life spinning out of co...  ['Veronica Haddon']   \n",
              "4                                                NaN      ['Edward Long']   \n",
              "\n",
              "                                               image  \\\n",
              "0  http://books.google.com/books/content?id=DykPA...   \n",
              "1  http://books.google.com/books/content?id=IjvHQ...   \n",
              "2  http://books.google.com/books/content?id=2tsDA...   \n",
              "3  http://books.google.com/books/content?id=aRSIg...   \n",
              "4                                                NaN   \n",
              "\n",
              "                                         previewLink  publisher publishedDate  \\\n",
              "0  http://books.google.nl/books?id=DykPAAAACAAJ&d...        NaN          1996   \n",
              "1  http://books.google.nl/books?id=IjvHQsCn_pgC&p...  A&C Black    2005-01-01   \n",
              "2  http://books.google.nl/books?id=2tsDAAAACAAJ&d...        NaN          2000   \n",
              "3  http://books.google.nl/books?id=aRSIgJlq6JwC&d...  iUniverse       2005-02   \n",
              "4  http://books.google.nl/books?id=399SPgAACAAJ&d...        NaN    2003-03-01   \n",
              "\n",
              "                                            infoLink  \\\n",
              "0  http://books.google.nl/books?id=DykPAAAACAAJ&d...   \n",
              "1  http://books.google.nl/books?id=IjvHQsCn_pgC&d...   \n",
              "2  http://books.google.nl/books?id=2tsDAAAACAAJ&d...   \n",
              "3  http://books.google.nl/books?id=aRSIgJlq6JwC&d...   \n",
              "4  http://books.google.nl/books?id=399SPgAACAAJ&d...   \n",
              "\n",
              "                      categories  ratingsCount  \n",
              "0    ['Comics & Graphic Novels']           NaN  \n",
              "1  ['Biography & Autobiography']           NaN  \n",
              "2                   ['Religion']           NaN  \n",
              "3                    ['Fiction']           NaN  \n",
              "4                            NaN           NaN  "
            ],
            "text/html": [
              "\n",
              "  <div id=\"df-901fc511-e424-4f5f-af77-8f8656180b47\" class=\"colab-df-container\">\n",
              "    <div>\n",
              "<style scoped>\n",
              "    .dataframe tbody tr th:only-of-type {\n",
              "        vertical-align: middle;\n",
              "    }\n",
              "\n",
              "    .dataframe tbody tr th {\n",
              "        vertical-align: top;\n",
              "    }\n",
              "\n",
              "    .dataframe thead th {\n",
              "        text-align: right;\n",
              "    }\n",
              "</style>\n",
              "<table border=\"1\" class=\"dataframe\">\n",
              "  <thead>\n",
              "    <tr style=\"text-align: right;\">\n",
              "      <th></th>\n",
              "      <th>Title</th>\n",
              "      <th>description</th>\n",
              "      <th>authors</th>\n",
              "      <th>image</th>\n",
              "      <th>previewLink</th>\n",
              "      <th>publisher</th>\n",
              "      <th>publishedDate</th>\n",
              "      <th>infoLink</th>\n",
              "      <th>categories</th>\n",
              "      <th>ratingsCount</th>\n",
              "    </tr>\n",
              "  </thead>\n",
              "  <tbody>\n",
              "    <tr>\n",
              "      <th>0</th>\n",
              "      <td>Its Only Art If Its Well Hung!</td>\n",
              "      <td>NaN</td>\n",
              "      <td>['Julie Strain']</td>\n",
              "      <td>http://books.google.com/books/content?id=DykPA...</td>\n",
              "      <td>http://books.google.nl/books?id=DykPAAAACAAJ&amp;d...</td>\n",
              "      <td>NaN</td>\n",
              "      <td>1996</td>\n",
              "      <td>http://books.google.nl/books?id=DykPAAAACAAJ&amp;d...</td>\n",
              "      <td>['Comics &amp; Graphic Novels']</td>\n",
              "      <td>NaN</td>\n",
              "    </tr>\n",
              "    <tr>\n",
              "      <th>1</th>\n",
              "      <td>Dr. Seuss: American Icon</td>\n",
              "      <td>Philip Nel takes a fascinating look into the k...</td>\n",
              "      <td>['Philip Nel']</td>\n",
              "      <td>http://books.google.com/books/content?id=IjvHQ...</td>\n",
              "      <td>http://books.google.nl/books?id=IjvHQsCn_pgC&amp;p...</td>\n",
              "      <td>A&amp;C Black</td>\n",
              "      <td>2005-01-01</td>\n",
              "      <td>http://books.google.nl/books?id=IjvHQsCn_pgC&amp;d...</td>\n",
              "      <td>['Biography &amp; Autobiography']</td>\n",
              "      <td>NaN</td>\n",
              "    </tr>\n",
              "    <tr>\n",
              "      <th>2</th>\n",
              "      <td>Wonderful Worship in Smaller Churches</td>\n",
              "      <td>This resource includes twelve principles in un...</td>\n",
              "      <td>['David R. Ray']</td>\n",
              "      <td>http://books.google.com/books/content?id=2tsDA...</td>\n",
              "      <td>http://books.google.nl/books?id=2tsDAAAACAAJ&amp;d...</td>\n",
              "      <td>NaN</td>\n",
              "      <td>2000</td>\n",
              "      <td>http://books.google.nl/books?id=2tsDAAAACAAJ&amp;d...</td>\n",
              "      <td>['Religion']</td>\n",
              "      <td>NaN</td>\n",
              "    </tr>\n",
              "    <tr>\n",
              "      <th>3</th>\n",
              "      <td>Whispers of the Wicked Saints</td>\n",
              "      <td>Julia Thomas finds her life spinning out of co...</td>\n",
              "      <td>['Veronica Haddon']</td>\n",
              "      <td>http://books.google.com/books/content?id=aRSIg...</td>\n",
              "      <td>http://books.google.nl/books?id=aRSIgJlq6JwC&amp;d...</td>\n",
              "      <td>iUniverse</td>\n",
              "      <td>2005-02</td>\n",
              "      <td>http://books.google.nl/books?id=aRSIgJlq6JwC&amp;d...</td>\n",
              "      <td>['Fiction']</td>\n",
              "      <td>NaN</td>\n",
              "    </tr>\n",
              "    <tr>\n",
              "      <th>4</th>\n",
              "      <td>Nation Dance: Religion, Identity and Cultural ...</td>\n",
              "      <td>NaN</td>\n",
              "      <td>['Edward Long']</td>\n",
              "      <td>NaN</td>\n",
              "      <td>http://books.google.nl/books?id=399SPgAACAAJ&amp;d...</td>\n",
              "      <td>NaN</td>\n",
              "      <td>2003-03-01</td>\n",
              "      <td>http://books.google.nl/books?id=399SPgAACAAJ&amp;d...</td>\n",
              "      <td>NaN</td>\n",
              "      <td>NaN</td>\n",
              "    </tr>\n",
              "  </tbody>\n",
              "</table>\n",
              "</div>\n",
              "    <div class=\"colab-df-buttons\">\n",
              "\n",
              "  <div class=\"colab-df-container\">\n",
              "    <button class=\"colab-df-convert\" onclick=\"convertToInteractive('df-901fc511-e424-4f5f-af77-8f8656180b47')\"\n",
              "            title=\"Convert this dataframe to an interactive table.\"\n",
              "            style=\"display:none;\">\n",
              "\n",
              "  <svg xmlns=\"http://www.w3.org/2000/svg\" height=\"24px\" viewBox=\"0 -960 960 960\">\n",
              "    <path d=\"M120-120v-720h720v720H120Zm60-500h600v-160H180v160Zm220 220h160v-160H400v160Zm0 220h160v-160H400v160ZM180-400h160v-160H180v160Zm440 0h160v-160H620v160ZM180-180h160v-160H180v160Zm440 0h160v-160H620v160Z\"/>\n",
              "  </svg>\n",
              "    </button>\n",
              "\n",
              "  <style>\n",
              "    .colab-df-container {\n",
              "      display:flex;\n",
              "      gap: 12px;\n",
              "    }\n",
              "\n",
              "    .colab-df-convert {\n",
              "      background-color: #E8F0FE;\n",
              "      border: none;\n",
              "      border-radius: 50%;\n",
              "      cursor: pointer;\n",
              "      display: none;\n",
              "      fill: #1967D2;\n",
              "      height: 32px;\n",
              "      padding: 0 0 0 0;\n",
              "      width: 32px;\n",
              "    }\n",
              "\n",
              "    .colab-df-convert:hover {\n",
              "      background-color: #E2EBFA;\n",
              "      box-shadow: 0px 1px 2px rgba(60, 64, 67, 0.3), 0px 1px 3px 1px rgba(60, 64, 67, 0.15);\n",
              "      fill: #174EA6;\n",
              "    }\n",
              "\n",
              "    .colab-df-buttons div {\n",
              "      margin-bottom: 4px;\n",
              "    }\n",
              "\n",
              "    [theme=dark] .colab-df-convert {\n",
              "      background-color: #3B4455;\n",
              "      fill: #D2E3FC;\n",
              "    }\n",
              "\n",
              "    [theme=dark] .colab-df-convert:hover {\n",
              "      background-color: #434B5C;\n",
              "      box-shadow: 0px 1px 3px 1px rgba(0, 0, 0, 0.15);\n",
              "      filter: drop-shadow(0px 1px 2px rgba(0, 0, 0, 0.3));\n",
              "      fill: #FFFFFF;\n",
              "    }\n",
              "  </style>\n",
              "\n",
              "    <script>\n",
              "      const buttonEl =\n",
              "        document.querySelector('#df-901fc511-e424-4f5f-af77-8f8656180b47 button.colab-df-convert');\n",
              "      buttonEl.style.display =\n",
              "        google.colab.kernel.accessAllowed ? 'block' : 'none';\n",
              "\n",
              "      async function convertToInteractive(key) {\n",
              "        const element = document.querySelector('#df-901fc511-e424-4f5f-af77-8f8656180b47');\n",
              "        const dataTable =\n",
              "          await google.colab.kernel.invokeFunction('convertToInteractive',\n",
              "                                                    [key], {});\n",
              "        if (!dataTable) return;\n",
              "\n",
              "        const docLinkHtml = 'Like what you see? Visit the ' +\n",
              "          '<a target=\"_blank\" href=https://colab.research.google.com/notebooks/data_table.ipynb>data table notebook</a>'\n",
              "          + ' to learn more about interactive tables.';\n",
              "        element.innerHTML = '';\n",
              "        dataTable['output_type'] = 'display_data';\n",
              "        await google.colab.output.renderOutput(dataTable, element);\n",
              "        const docLink = document.createElement('div');\n",
              "        docLink.innerHTML = docLinkHtml;\n",
              "        element.appendChild(docLink);\n",
              "      }\n",
              "    </script>\n",
              "  </div>\n",
              "\n",
              "\n",
              "    <div id=\"df-42a35ca1-a032-480e-81a3-d0dc1c946fab\">\n",
              "      <button class=\"colab-df-quickchart\" onclick=\"quickchart('df-42a35ca1-a032-480e-81a3-d0dc1c946fab')\"\n",
              "                title=\"Suggest charts\"\n",
              "                style=\"display:none;\">\n",
              "\n",
              "<svg xmlns=\"http://www.w3.org/2000/svg\" height=\"24px\"viewBox=\"0 0 24 24\"\n",
              "     width=\"24px\">\n",
              "    <g>\n",
              "        <path d=\"M19 3H5c-1.1 0-2 .9-2 2v14c0 1.1.9 2 2 2h14c1.1 0 2-.9 2-2V5c0-1.1-.9-2-2-2zM9 17H7v-7h2v7zm4 0h-2V7h2v10zm4 0h-2v-4h2v4z\"/>\n",
              "    </g>\n",
              "</svg>\n",
              "      </button>\n",
              "\n",
              "<style>\n",
              "  .colab-df-quickchart {\n",
              "      --bg-color: #E8F0FE;\n",
              "      --fill-color: #1967D2;\n",
              "      --hover-bg-color: #E2EBFA;\n",
              "      --hover-fill-color: #174EA6;\n",
              "      --disabled-fill-color: #AAA;\n",
              "      --disabled-bg-color: #DDD;\n",
              "  }\n",
              "\n",
              "  [theme=dark] .colab-df-quickchart {\n",
              "      --bg-color: #3B4455;\n",
              "      --fill-color: #D2E3FC;\n",
              "      --hover-bg-color: #434B5C;\n",
              "      --hover-fill-color: #FFFFFF;\n",
              "      --disabled-bg-color: #3B4455;\n",
              "      --disabled-fill-color: #666;\n",
              "  }\n",
              "\n",
              "  .colab-df-quickchart {\n",
              "    background-color: var(--bg-color);\n",
              "    border: none;\n",
              "    border-radius: 50%;\n",
              "    cursor: pointer;\n",
              "    display: none;\n",
              "    fill: var(--fill-color);\n",
              "    height: 32px;\n",
              "    padding: 0;\n",
              "    width: 32px;\n",
              "  }\n",
              "\n",
              "  .colab-df-quickchart:hover {\n",
              "    background-color: var(--hover-bg-color);\n",
              "    box-shadow: 0 1px 2px rgba(60, 64, 67, 0.3), 0 1px 3px 1px rgba(60, 64, 67, 0.15);\n",
              "    fill: var(--button-hover-fill-color);\n",
              "  }\n",
              "\n",
              "  .colab-df-quickchart-complete:disabled,\n",
              "  .colab-df-quickchart-complete:disabled:hover {\n",
              "    background-color: var(--disabled-bg-color);\n",
              "    fill: var(--disabled-fill-color);\n",
              "    box-shadow: none;\n",
              "  }\n",
              "\n",
              "  .colab-df-spinner {\n",
              "    border: 2px solid var(--fill-color);\n",
              "    border-color: transparent;\n",
              "    border-bottom-color: var(--fill-color);\n",
              "    animation:\n",
              "      spin 1s steps(1) infinite;\n",
              "  }\n",
              "\n",
              "  @keyframes spin {\n",
              "    0% {\n",
              "      border-color: transparent;\n",
              "      border-bottom-color: var(--fill-color);\n",
              "      border-left-color: var(--fill-color);\n",
              "    }\n",
              "    20% {\n",
              "      border-color: transparent;\n",
              "      border-left-color: var(--fill-color);\n",
              "      border-top-color: var(--fill-color);\n",
              "    }\n",
              "    30% {\n",
              "      border-color: transparent;\n",
              "      border-left-color: var(--fill-color);\n",
              "      border-top-color: var(--fill-color);\n",
              "      border-right-color: var(--fill-color);\n",
              "    }\n",
              "    40% {\n",
              "      border-color: transparent;\n",
              "      border-right-color: var(--fill-color);\n",
              "      border-top-color: var(--fill-color);\n",
              "    }\n",
              "    60% {\n",
              "      border-color: transparent;\n",
              "      border-right-color: var(--fill-color);\n",
              "    }\n",
              "    80% {\n",
              "      border-color: transparent;\n",
              "      border-right-color: var(--fill-color);\n",
              "      border-bottom-color: var(--fill-color);\n",
              "    }\n",
              "    90% {\n",
              "      border-color: transparent;\n",
              "      border-bottom-color: var(--fill-color);\n",
              "    }\n",
              "  }\n",
              "</style>\n",
              "\n",
              "      <script>\n",
              "        async function quickchart(key) {\n",
              "          const quickchartButtonEl =\n",
              "            document.querySelector('#' + key + ' button');\n",
              "          quickchartButtonEl.disabled = true;  // To prevent multiple clicks.\n",
              "          quickchartButtonEl.classList.add('colab-df-spinner');\n",
              "          try {\n",
              "            const charts = await google.colab.kernel.invokeFunction(\n",
              "                'suggestCharts', [key], {});\n",
              "          } catch (error) {\n",
              "            console.error('Error during call to suggestCharts:', error);\n",
              "          }\n",
              "          quickchartButtonEl.classList.remove('colab-df-spinner');\n",
              "          quickchartButtonEl.classList.add('colab-df-quickchart-complete');\n",
              "        }\n",
              "        (() => {\n",
              "          let quickchartButtonEl =\n",
              "            document.querySelector('#df-42a35ca1-a032-480e-81a3-d0dc1c946fab button');\n",
              "          quickchartButtonEl.style.display =\n",
              "            google.colab.kernel.accessAllowed ? 'block' : 'none';\n",
              "        })();\n",
              "      </script>\n",
              "    </div>\n",
              "\n",
              "    </div>\n",
              "  </div>\n"
            ],
            "application/vnd.google.colaboratory.intrinsic+json": {
              "type": "dataframe",
              "variable_name": "books_data"
            }
          },
          "metadata": {},
          "execution_count": 6
        }
      ],
      "source": [
        "books_data.head(5)"
      ]
    },
    {
      "cell_type": "code",
      "execution_count": 7,
      "metadata": {
        "id": "KyKcTADP0ll1",
        "outputId": "8e7b425d-6ae9-42d9-aa52-bfb3f03d5cb3",
        "colab": {
          "base_uri": "https://localhost:8080/"
        }
      },
      "outputs": [
        {
          "output_type": "execute_result",
          "data": {
            "text/plain": [
              "(212404, 10)"
            ]
          },
          "metadata": {},
          "execution_count": 7
        }
      ],
      "source": [
        "books_data.shape"
      ]
    },
    {
      "cell_type": "markdown",
      "metadata": {
        "id": "ABIDypIU0ll1"
      },
      "source": [
        "##  Preprocessing the Books Data"
      ]
    },
    {
      "cell_type": "code",
      "execution_count": 8,
      "metadata": {
        "id": "6ejKeiZW0ll1",
        "outputId": "a70ab32d-8be4-4b2e-cd5e-38158e32c58d",
        "colab": {
          "base_uri": "https://localhost:8080/",
          "height": 206
        }
      },
      "outputs": [
        {
          "output_type": "execute_result",
          "data": {
            "text/plain": [
              "                                               Title  \\\n",
              "0                     Its Only Art If Its Well Hung!   \n",
              "1                           Dr. Seuss: American Icon   \n",
              "2              Wonderful Worship in Smaller Churches   \n",
              "3                      Whispers of the Wicked Saints   \n",
              "4  Nation Dance: Religion, Identity and Cultural ...   \n",
              "\n",
              "                      categories              authors publishedDate  \n",
              "0    ['Comics & Graphic Novels']     ['Julie Strain']          1996  \n",
              "1  ['Biography & Autobiography']       ['Philip Nel']    2005-01-01  \n",
              "2                   ['Religion']     ['David R. Ray']          2000  \n",
              "3                    ['Fiction']  ['Veronica Haddon']       2005-02  \n",
              "4                            NaN      ['Edward Long']    2003-03-01  "
            ],
            "text/html": [
              "\n",
              "  <div id=\"df-86cd287c-22c4-4a74-9d80-8ed683ee144c\" class=\"colab-df-container\">\n",
              "    <div>\n",
              "<style scoped>\n",
              "    .dataframe tbody tr th:only-of-type {\n",
              "        vertical-align: middle;\n",
              "    }\n",
              "\n",
              "    .dataframe tbody tr th {\n",
              "        vertical-align: top;\n",
              "    }\n",
              "\n",
              "    .dataframe thead th {\n",
              "        text-align: right;\n",
              "    }\n",
              "</style>\n",
              "<table border=\"1\" class=\"dataframe\">\n",
              "  <thead>\n",
              "    <tr style=\"text-align: right;\">\n",
              "      <th></th>\n",
              "      <th>Title</th>\n",
              "      <th>categories</th>\n",
              "      <th>authors</th>\n",
              "      <th>publishedDate</th>\n",
              "    </tr>\n",
              "  </thead>\n",
              "  <tbody>\n",
              "    <tr>\n",
              "      <th>0</th>\n",
              "      <td>Its Only Art If Its Well Hung!</td>\n",
              "      <td>['Comics &amp; Graphic Novels']</td>\n",
              "      <td>['Julie Strain']</td>\n",
              "      <td>1996</td>\n",
              "    </tr>\n",
              "    <tr>\n",
              "      <th>1</th>\n",
              "      <td>Dr. Seuss: American Icon</td>\n",
              "      <td>['Biography &amp; Autobiography']</td>\n",
              "      <td>['Philip Nel']</td>\n",
              "      <td>2005-01-01</td>\n",
              "    </tr>\n",
              "    <tr>\n",
              "      <th>2</th>\n",
              "      <td>Wonderful Worship in Smaller Churches</td>\n",
              "      <td>['Religion']</td>\n",
              "      <td>['David R. Ray']</td>\n",
              "      <td>2000</td>\n",
              "    </tr>\n",
              "    <tr>\n",
              "      <th>3</th>\n",
              "      <td>Whispers of the Wicked Saints</td>\n",
              "      <td>['Fiction']</td>\n",
              "      <td>['Veronica Haddon']</td>\n",
              "      <td>2005-02</td>\n",
              "    </tr>\n",
              "    <tr>\n",
              "      <th>4</th>\n",
              "      <td>Nation Dance: Religion, Identity and Cultural ...</td>\n",
              "      <td>NaN</td>\n",
              "      <td>['Edward Long']</td>\n",
              "      <td>2003-03-01</td>\n",
              "    </tr>\n",
              "  </tbody>\n",
              "</table>\n",
              "</div>\n",
              "    <div class=\"colab-df-buttons\">\n",
              "\n",
              "  <div class=\"colab-df-container\">\n",
              "    <button class=\"colab-df-convert\" onclick=\"convertToInteractive('df-86cd287c-22c4-4a74-9d80-8ed683ee144c')\"\n",
              "            title=\"Convert this dataframe to an interactive table.\"\n",
              "            style=\"display:none;\">\n",
              "\n",
              "  <svg xmlns=\"http://www.w3.org/2000/svg\" height=\"24px\" viewBox=\"0 -960 960 960\">\n",
              "    <path d=\"M120-120v-720h720v720H120Zm60-500h600v-160H180v160Zm220 220h160v-160H400v160Zm0 220h160v-160H400v160ZM180-400h160v-160H180v160Zm440 0h160v-160H620v160ZM180-180h160v-160H180v160Zm440 0h160v-160H620v160Z\"/>\n",
              "  </svg>\n",
              "    </button>\n",
              "\n",
              "  <style>\n",
              "    .colab-df-container {\n",
              "      display:flex;\n",
              "      gap: 12px;\n",
              "    }\n",
              "\n",
              "    .colab-df-convert {\n",
              "      background-color: #E8F0FE;\n",
              "      border: none;\n",
              "      border-radius: 50%;\n",
              "      cursor: pointer;\n",
              "      display: none;\n",
              "      fill: #1967D2;\n",
              "      height: 32px;\n",
              "      padding: 0 0 0 0;\n",
              "      width: 32px;\n",
              "    }\n",
              "\n",
              "    .colab-df-convert:hover {\n",
              "      background-color: #E2EBFA;\n",
              "      box-shadow: 0px 1px 2px rgba(60, 64, 67, 0.3), 0px 1px 3px 1px rgba(60, 64, 67, 0.15);\n",
              "      fill: #174EA6;\n",
              "    }\n",
              "\n",
              "    .colab-df-buttons div {\n",
              "      margin-bottom: 4px;\n",
              "    }\n",
              "\n",
              "    [theme=dark] .colab-df-convert {\n",
              "      background-color: #3B4455;\n",
              "      fill: #D2E3FC;\n",
              "    }\n",
              "\n",
              "    [theme=dark] .colab-df-convert:hover {\n",
              "      background-color: #434B5C;\n",
              "      box-shadow: 0px 1px 3px 1px rgba(0, 0, 0, 0.15);\n",
              "      filter: drop-shadow(0px 1px 2px rgba(0, 0, 0, 0.3));\n",
              "      fill: #FFFFFF;\n",
              "    }\n",
              "  </style>\n",
              "\n",
              "    <script>\n",
              "      const buttonEl =\n",
              "        document.querySelector('#df-86cd287c-22c4-4a74-9d80-8ed683ee144c button.colab-df-convert');\n",
              "      buttonEl.style.display =\n",
              "        google.colab.kernel.accessAllowed ? 'block' : 'none';\n",
              "\n",
              "      async function convertToInteractive(key) {\n",
              "        const element = document.querySelector('#df-86cd287c-22c4-4a74-9d80-8ed683ee144c');\n",
              "        const dataTable =\n",
              "          await google.colab.kernel.invokeFunction('convertToInteractive',\n",
              "                                                    [key], {});\n",
              "        if (!dataTable) return;\n",
              "\n",
              "        const docLinkHtml = 'Like what you see? Visit the ' +\n",
              "          '<a target=\"_blank\" href=https://colab.research.google.com/notebooks/data_table.ipynb>data table notebook</a>'\n",
              "          + ' to learn more about interactive tables.';\n",
              "        element.innerHTML = '';\n",
              "        dataTable['output_type'] = 'display_data';\n",
              "        await google.colab.output.renderOutput(dataTable, element);\n",
              "        const docLink = document.createElement('div');\n",
              "        docLink.innerHTML = docLinkHtml;\n",
              "        element.appendChild(docLink);\n",
              "      }\n",
              "    </script>\n",
              "  </div>\n",
              "\n",
              "\n",
              "    <div id=\"df-7db47d37-0404-49c3-8e76-243fd739f6ce\">\n",
              "      <button class=\"colab-df-quickchart\" onclick=\"quickchart('df-7db47d37-0404-49c3-8e76-243fd739f6ce')\"\n",
              "                title=\"Suggest charts\"\n",
              "                style=\"display:none;\">\n",
              "\n",
              "<svg xmlns=\"http://www.w3.org/2000/svg\" height=\"24px\"viewBox=\"0 0 24 24\"\n",
              "     width=\"24px\">\n",
              "    <g>\n",
              "        <path d=\"M19 3H5c-1.1 0-2 .9-2 2v14c0 1.1.9 2 2 2h14c1.1 0 2-.9 2-2V5c0-1.1-.9-2-2-2zM9 17H7v-7h2v7zm4 0h-2V7h2v10zm4 0h-2v-4h2v4z\"/>\n",
              "    </g>\n",
              "</svg>\n",
              "      </button>\n",
              "\n",
              "<style>\n",
              "  .colab-df-quickchart {\n",
              "      --bg-color: #E8F0FE;\n",
              "      --fill-color: #1967D2;\n",
              "      --hover-bg-color: #E2EBFA;\n",
              "      --hover-fill-color: #174EA6;\n",
              "      --disabled-fill-color: #AAA;\n",
              "      --disabled-bg-color: #DDD;\n",
              "  }\n",
              "\n",
              "  [theme=dark] .colab-df-quickchart {\n",
              "      --bg-color: #3B4455;\n",
              "      --fill-color: #D2E3FC;\n",
              "      --hover-bg-color: #434B5C;\n",
              "      --hover-fill-color: #FFFFFF;\n",
              "      --disabled-bg-color: #3B4455;\n",
              "      --disabled-fill-color: #666;\n",
              "  }\n",
              "\n",
              "  .colab-df-quickchart {\n",
              "    background-color: var(--bg-color);\n",
              "    border: none;\n",
              "    border-radius: 50%;\n",
              "    cursor: pointer;\n",
              "    display: none;\n",
              "    fill: var(--fill-color);\n",
              "    height: 32px;\n",
              "    padding: 0;\n",
              "    width: 32px;\n",
              "  }\n",
              "\n",
              "  .colab-df-quickchart:hover {\n",
              "    background-color: var(--hover-bg-color);\n",
              "    box-shadow: 0 1px 2px rgba(60, 64, 67, 0.3), 0 1px 3px 1px rgba(60, 64, 67, 0.15);\n",
              "    fill: var(--button-hover-fill-color);\n",
              "  }\n",
              "\n",
              "  .colab-df-quickchart-complete:disabled,\n",
              "  .colab-df-quickchart-complete:disabled:hover {\n",
              "    background-color: var(--disabled-bg-color);\n",
              "    fill: var(--disabled-fill-color);\n",
              "    box-shadow: none;\n",
              "  }\n",
              "\n",
              "  .colab-df-spinner {\n",
              "    border: 2px solid var(--fill-color);\n",
              "    border-color: transparent;\n",
              "    border-bottom-color: var(--fill-color);\n",
              "    animation:\n",
              "      spin 1s steps(1) infinite;\n",
              "  }\n",
              "\n",
              "  @keyframes spin {\n",
              "    0% {\n",
              "      border-color: transparent;\n",
              "      border-bottom-color: var(--fill-color);\n",
              "      border-left-color: var(--fill-color);\n",
              "    }\n",
              "    20% {\n",
              "      border-color: transparent;\n",
              "      border-left-color: var(--fill-color);\n",
              "      border-top-color: var(--fill-color);\n",
              "    }\n",
              "    30% {\n",
              "      border-color: transparent;\n",
              "      border-left-color: var(--fill-color);\n",
              "      border-top-color: var(--fill-color);\n",
              "      border-right-color: var(--fill-color);\n",
              "    }\n",
              "    40% {\n",
              "      border-color: transparent;\n",
              "      border-right-color: var(--fill-color);\n",
              "      border-top-color: var(--fill-color);\n",
              "    }\n",
              "    60% {\n",
              "      border-color: transparent;\n",
              "      border-right-color: var(--fill-color);\n",
              "    }\n",
              "    80% {\n",
              "      border-color: transparent;\n",
              "      border-right-color: var(--fill-color);\n",
              "      border-bottom-color: var(--fill-color);\n",
              "    }\n",
              "    90% {\n",
              "      border-color: transparent;\n",
              "      border-bottom-color: var(--fill-color);\n",
              "    }\n",
              "  }\n",
              "</style>\n",
              "\n",
              "      <script>\n",
              "        async function quickchart(key) {\n",
              "          const quickchartButtonEl =\n",
              "            document.querySelector('#' + key + ' button');\n",
              "          quickchartButtonEl.disabled = true;  // To prevent multiple clicks.\n",
              "          quickchartButtonEl.classList.add('colab-df-spinner');\n",
              "          try {\n",
              "            const charts = await google.colab.kernel.invokeFunction(\n",
              "                'suggestCharts', [key], {});\n",
              "          } catch (error) {\n",
              "            console.error('Error during call to suggestCharts:', error);\n",
              "          }\n",
              "          quickchartButtonEl.classList.remove('colab-df-spinner');\n",
              "          quickchartButtonEl.classList.add('colab-df-quickchart-complete');\n",
              "        }\n",
              "        (() => {\n",
              "          let quickchartButtonEl =\n",
              "            document.querySelector('#df-7db47d37-0404-49c3-8e76-243fd739f6ce button');\n",
              "          quickchartButtonEl.style.display =\n",
              "            google.colab.kernel.accessAllowed ? 'block' : 'none';\n",
              "        })();\n",
              "      </script>\n",
              "    </div>\n",
              "\n",
              "    </div>\n",
              "  </div>\n"
            ],
            "application/vnd.google.colaboratory.intrinsic+json": {
              "type": "dataframe",
              "variable_name": "books_data"
            }
          },
          "metadata": {},
          "execution_count": 8
        }
      ],
      "source": [
        "# keep only columns 'Title', 'categories'\n",
        "books_data = books_data[['Title', 'categories', 'authors', 'publishedDate']]\n",
        "books_data.head(5)"
      ]
    },
    {
      "cell_type": "code",
      "execution_count": 9,
      "metadata": {
        "id": "TYZzZZH30ll2",
        "outputId": "06397d53-9486-4331-c959-426f87d71bfa",
        "colab": {
          "base_uri": "https://localhost:8080/"
        }
      },
      "outputs": [
        {
          "output_type": "execute_result",
          "data": {
            "text/plain": [
              "10883"
            ]
          },
          "metadata": {},
          "execution_count": 9
        }
      ],
      "source": [
        "# show unique values in the column categories\n",
        "books_data['categories'].nunique()"
      ]
    },
    {
      "cell_type": "code",
      "execution_count": 10,
      "metadata": {
        "id": "79NopJGD0ll2",
        "outputId": "5ef55764-686e-4557-b085-7efb6eb63ef2",
        "colab": {
          "base_uri": "https://localhost:8080/",
          "height": 742
        }
      },
      "outputs": [
        {
          "output_type": "execute_result",
          "data": {
            "text/plain": [
              "categories\n",
              "['Fiction']                        23419\n",
              "['Religion']                        9459\n",
              "['History']                         9330\n",
              "['Juvenile Fiction']                6643\n",
              "['Biography & Autobiography']       6324\n",
              "['Business & Economics']            5625\n",
              "['Computers']                       4312\n",
              "['Social Science']                  3834\n",
              "['Juvenile Nonfiction']             3446\n",
              "['Science']                         2623\n",
              "['Education']                       2611\n",
              "['Cooking']                         2445\n",
              "['Sports & Recreation']             2267\n",
              "['Family & Relationships']          2178\n",
              "['Literary Criticism']              2147\n",
              "['Music']                           2106\n",
              "['Medical']                         2079\n",
              "['Art']                             2054\n",
              "['Body, Mind & Spirit']             2049\n",
              "['Language Arts & Disciplines']     2036\n",
              "Name: count, dtype: int64"
            ],
            "text/html": [
              "<div>\n",
              "<style scoped>\n",
              "    .dataframe tbody tr th:only-of-type {\n",
              "        vertical-align: middle;\n",
              "    }\n",
              "\n",
              "    .dataframe tbody tr th {\n",
              "        vertical-align: top;\n",
              "    }\n",
              "\n",
              "    .dataframe thead th {\n",
              "        text-align: right;\n",
              "    }\n",
              "</style>\n",
              "<table border=\"1\" class=\"dataframe\">\n",
              "  <thead>\n",
              "    <tr style=\"text-align: right;\">\n",
              "      <th></th>\n",
              "      <th>count</th>\n",
              "    </tr>\n",
              "    <tr>\n",
              "      <th>categories</th>\n",
              "      <th></th>\n",
              "    </tr>\n",
              "  </thead>\n",
              "  <tbody>\n",
              "    <tr>\n",
              "      <th>['Fiction']</th>\n",
              "      <td>23419</td>\n",
              "    </tr>\n",
              "    <tr>\n",
              "      <th>['Religion']</th>\n",
              "      <td>9459</td>\n",
              "    </tr>\n",
              "    <tr>\n",
              "      <th>['History']</th>\n",
              "      <td>9330</td>\n",
              "    </tr>\n",
              "    <tr>\n",
              "      <th>['Juvenile Fiction']</th>\n",
              "      <td>6643</td>\n",
              "    </tr>\n",
              "    <tr>\n",
              "      <th>['Biography &amp; Autobiography']</th>\n",
              "      <td>6324</td>\n",
              "    </tr>\n",
              "    <tr>\n",
              "      <th>['Business &amp; Economics']</th>\n",
              "      <td>5625</td>\n",
              "    </tr>\n",
              "    <tr>\n",
              "      <th>['Computers']</th>\n",
              "      <td>4312</td>\n",
              "    </tr>\n",
              "    <tr>\n",
              "      <th>['Social Science']</th>\n",
              "      <td>3834</td>\n",
              "    </tr>\n",
              "    <tr>\n",
              "      <th>['Juvenile Nonfiction']</th>\n",
              "      <td>3446</td>\n",
              "    </tr>\n",
              "    <tr>\n",
              "      <th>['Science']</th>\n",
              "      <td>2623</td>\n",
              "    </tr>\n",
              "    <tr>\n",
              "      <th>['Education']</th>\n",
              "      <td>2611</td>\n",
              "    </tr>\n",
              "    <tr>\n",
              "      <th>['Cooking']</th>\n",
              "      <td>2445</td>\n",
              "    </tr>\n",
              "    <tr>\n",
              "      <th>['Sports &amp; Recreation']</th>\n",
              "      <td>2267</td>\n",
              "    </tr>\n",
              "    <tr>\n",
              "      <th>['Family &amp; Relationships']</th>\n",
              "      <td>2178</td>\n",
              "    </tr>\n",
              "    <tr>\n",
              "      <th>['Literary Criticism']</th>\n",
              "      <td>2147</td>\n",
              "    </tr>\n",
              "    <tr>\n",
              "      <th>['Music']</th>\n",
              "      <td>2106</td>\n",
              "    </tr>\n",
              "    <tr>\n",
              "      <th>['Medical']</th>\n",
              "      <td>2079</td>\n",
              "    </tr>\n",
              "    <tr>\n",
              "      <th>['Art']</th>\n",
              "      <td>2054</td>\n",
              "    </tr>\n",
              "    <tr>\n",
              "      <th>['Body, Mind &amp; Spirit']</th>\n",
              "      <td>2049</td>\n",
              "    </tr>\n",
              "    <tr>\n",
              "      <th>['Language Arts &amp; Disciplines']</th>\n",
              "      <td>2036</td>\n",
              "    </tr>\n",
              "  </tbody>\n",
              "</table>\n",
              "</div><br><label><b>dtype:</b> int64</label>"
            ]
          },
          "metadata": {},
          "execution_count": 10
        }
      ],
      "source": [
        "# show top 20 categories\n",
        "books_data['categories'].value_counts().head(20)"
      ]
    },
    {
      "cell_type": "code",
      "execution_count": 11,
      "metadata": {
        "id": "cNQKZBrv0ll2"
      },
      "outputs": [],
      "source": [
        "books_data.loc[:, 'categories'] = books_data['categories'].apply(\n",
        "    lambda x: ast.literal_eval(x) if isinstance(x, str) else x\n",
        ")"
      ]
    },
    {
      "cell_type": "markdown",
      "metadata": {
        "id": "o-4bXmCm0ll2"
      },
      "source": [
        "## Filtering for Cooking Books"
      ]
    },
    {
      "cell_type": "code",
      "execution_count": 12,
      "metadata": {
        "id": "JQ3FBzyv0ll2"
      },
      "outputs": [],
      "source": [
        "# Filter the dataframe to include only rows where the categories column contains 'Cooking' (and not missing)\n",
        "df_cooking = books_data[\n",
        "    books_data['categories'].apply(\n",
        "        lambda x: isinstance(x, list) and any(cat.strip().lower() == 'cooking' for cat in x)\n",
        "    )\n",
        "]"
      ]
    },
    {
      "cell_type": "code",
      "execution_count": 13,
      "metadata": {
        "id": "g0EKdnZZ0ll2",
        "outputId": "e1ef38f8-d317-402b-d255-6ae16d17199b",
        "colab": {
          "base_uri": "https://localhost:8080/",
          "height": 206
        }
      },
      "outputs": [
        {
          "output_type": "execute_result",
          "data": {
            "text/plain": [
              "                                                 Title categories  \\\n",
              "19                                    Alaska Sourdough  [Cooking]   \n",
              "199                                 Old-Fashioned Ckbk  [Cooking]   \n",
              "280  Basil: A Book of Recipes (The Little Recipe Bo...  [Cooking]   \n",
              "351                                  Vino Para Dummies  [Cooking]   \n",
              "423  Flavors of Korea: Delicious Vegetarian Cuisine...  [Cooking]   \n",
              "\n",
              "                                             authors publishedDate  \n",
              "19                                   ['Ruth Allman']          1976  \n",
              "199                                     ['Don Holm']          1969  \n",
              "280                                              NaN          1997  \n",
              "351           ['Ed McCarthy', 'Mary Ewing-Mulligan']    2011-03-03  \n",
              "423  ['Deborah Coultrip-Davis', 'Young Sook Ramsay']    1998-01-01  "
            ],
            "text/html": [
              "\n",
              "  <div id=\"df-0e376cd2-9fe9-4392-946a-67098e87c06c\" class=\"colab-df-container\">\n",
              "    <div>\n",
              "<style scoped>\n",
              "    .dataframe tbody tr th:only-of-type {\n",
              "        vertical-align: middle;\n",
              "    }\n",
              "\n",
              "    .dataframe tbody tr th {\n",
              "        vertical-align: top;\n",
              "    }\n",
              "\n",
              "    .dataframe thead th {\n",
              "        text-align: right;\n",
              "    }\n",
              "</style>\n",
              "<table border=\"1\" class=\"dataframe\">\n",
              "  <thead>\n",
              "    <tr style=\"text-align: right;\">\n",
              "      <th></th>\n",
              "      <th>Title</th>\n",
              "      <th>categories</th>\n",
              "      <th>authors</th>\n",
              "      <th>publishedDate</th>\n",
              "    </tr>\n",
              "  </thead>\n",
              "  <tbody>\n",
              "    <tr>\n",
              "      <th>19</th>\n",
              "      <td>Alaska Sourdough</td>\n",
              "      <td>[Cooking]</td>\n",
              "      <td>['Ruth Allman']</td>\n",
              "      <td>1976</td>\n",
              "    </tr>\n",
              "    <tr>\n",
              "      <th>199</th>\n",
              "      <td>Old-Fashioned Ckbk</td>\n",
              "      <td>[Cooking]</td>\n",
              "      <td>['Don Holm']</td>\n",
              "      <td>1969</td>\n",
              "    </tr>\n",
              "    <tr>\n",
              "      <th>280</th>\n",
              "      <td>Basil: A Book of Recipes (The Little Recipe Bo...</td>\n",
              "      <td>[Cooking]</td>\n",
              "      <td>NaN</td>\n",
              "      <td>1997</td>\n",
              "    </tr>\n",
              "    <tr>\n",
              "      <th>351</th>\n",
              "      <td>Vino Para Dummies</td>\n",
              "      <td>[Cooking]</td>\n",
              "      <td>['Ed McCarthy', 'Mary Ewing-Mulligan']</td>\n",
              "      <td>2011-03-03</td>\n",
              "    </tr>\n",
              "    <tr>\n",
              "      <th>423</th>\n",
              "      <td>Flavors of Korea: Delicious Vegetarian Cuisine...</td>\n",
              "      <td>[Cooking]</td>\n",
              "      <td>['Deborah Coultrip-Davis', 'Young Sook Ramsay']</td>\n",
              "      <td>1998-01-01</td>\n",
              "    </tr>\n",
              "  </tbody>\n",
              "</table>\n",
              "</div>\n",
              "    <div class=\"colab-df-buttons\">\n",
              "\n",
              "  <div class=\"colab-df-container\">\n",
              "    <button class=\"colab-df-convert\" onclick=\"convertToInteractive('df-0e376cd2-9fe9-4392-946a-67098e87c06c')\"\n",
              "            title=\"Convert this dataframe to an interactive table.\"\n",
              "            style=\"display:none;\">\n",
              "\n",
              "  <svg xmlns=\"http://www.w3.org/2000/svg\" height=\"24px\" viewBox=\"0 -960 960 960\">\n",
              "    <path d=\"M120-120v-720h720v720H120Zm60-500h600v-160H180v160Zm220 220h160v-160H400v160Zm0 220h160v-160H400v160ZM180-400h160v-160H180v160Zm440 0h160v-160H620v160ZM180-180h160v-160H180v160Zm440 0h160v-160H620v160Z\"/>\n",
              "  </svg>\n",
              "    </button>\n",
              "\n",
              "  <style>\n",
              "    .colab-df-container {\n",
              "      display:flex;\n",
              "      gap: 12px;\n",
              "    }\n",
              "\n",
              "    .colab-df-convert {\n",
              "      background-color: #E8F0FE;\n",
              "      border: none;\n",
              "      border-radius: 50%;\n",
              "      cursor: pointer;\n",
              "      display: none;\n",
              "      fill: #1967D2;\n",
              "      height: 32px;\n",
              "      padding: 0 0 0 0;\n",
              "      width: 32px;\n",
              "    }\n",
              "\n",
              "    .colab-df-convert:hover {\n",
              "      background-color: #E2EBFA;\n",
              "      box-shadow: 0px 1px 2px rgba(60, 64, 67, 0.3), 0px 1px 3px 1px rgba(60, 64, 67, 0.15);\n",
              "      fill: #174EA6;\n",
              "    }\n",
              "\n",
              "    .colab-df-buttons div {\n",
              "      margin-bottom: 4px;\n",
              "    }\n",
              "\n",
              "    [theme=dark] .colab-df-convert {\n",
              "      background-color: #3B4455;\n",
              "      fill: #D2E3FC;\n",
              "    }\n",
              "\n",
              "    [theme=dark] .colab-df-convert:hover {\n",
              "      background-color: #434B5C;\n",
              "      box-shadow: 0px 1px 3px 1px rgba(0, 0, 0, 0.15);\n",
              "      filter: drop-shadow(0px 1px 2px rgba(0, 0, 0, 0.3));\n",
              "      fill: #FFFFFF;\n",
              "    }\n",
              "  </style>\n",
              "\n",
              "    <script>\n",
              "      const buttonEl =\n",
              "        document.querySelector('#df-0e376cd2-9fe9-4392-946a-67098e87c06c button.colab-df-convert');\n",
              "      buttonEl.style.display =\n",
              "        google.colab.kernel.accessAllowed ? 'block' : 'none';\n",
              "\n",
              "      async function convertToInteractive(key) {\n",
              "        const element = document.querySelector('#df-0e376cd2-9fe9-4392-946a-67098e87c06c');\n",
              "        const dataTable =\n",
              "          await google.colab.kernel.invokeFunction('convertToInteractive',\n",
              "                                                    [key], {});\n",
              "        if (!dataTable) return;\n",
              "\n",
              "        const docLinkHtml = 'Like what you see? Visit the ' +\n",
              "          '<a target=\"_blank\" href=https://colab.research.google.com/notebooks/data_table.ipynb>data table notebook</a>'\n",
              "          + ' to learn more about interactive tables.';\n",
              "        element.innerHTML = '';\n",
              "        dataTable['output_type'] = 'display_data';\n",
              "        await google.colab.output.renderOutput(dataTable, element);\n",
              "        const docLink = document.createElement('div');\n",
              "        docLink.innerHTML = docLinkHtml;\n",
              "        element.appendChild(docLink);\n",
              "      }\n",
              "    </script>\n",
              "  </div>\n",
              "\n",
              "\n",
              "    <div id=\"df-606deb87-8e30-45bd-a339-6a33bd63c81d\">\n",
              "      <button class=\"colab-df-quickchart\" onclick=\"quickchart('df-606deb87-8e30-45bd-a339-6a33bd63c81d')\"\n",
              "                title=\"Suggest charts\"\n",
              "                style=\"display:none;\">\n",
              "\n",
              "<svg xmlns=\"http://www.w3.org/2000/svg\" height=\"24px\"viewBox=\"0 0 24 24\"\n",
              "     width=\"24px\">\n",
              "    <g>\n",
              "        <path d=\"M19 3H5c-1.1 0-2 .9-2 2v14c0 1.1.9 2 2 2h14c1.1 0 2-.9 2-2V5c0-1.1-.9-2-2-2zM9 17H7v-7h2v7zm4 0h-2V7h2v10zm4 0h-2v-4h2v4z\"/>\n",
              "    </g>\n",
              "</svg>\n",
              "      </button>\n",
              "\n",
              "<style>\n",
              "  .colab-df-quickchart {\n",
              "      --bg-color: #E8F0FE;\n",
              "      --fill-color: #1967D2;\n",
              "      --hover-bg-color: #E2EBFA;\n",
              "      --hover-fill-color: #174EA6;\n",
              "      --disabled-fill-color: #AAA;\n",
              "      --disabled-bg-color: #DDD;\n",
              "  }\n",
              "\n",
              "  [theme=dark] .colab-df-quickchart {\n",
              "      --bg-color: #3B4455;\n",
              "      --fill-color: #D2E3FC;\n",
              "      --hover-bg-color: #434B5C;\n",
              "      --hover-fill-color: #FFFFFF;\n",
              "      --disabled-bg-color: #3B4455;\n",
              "      --disabled-fill-color: #666;\n",
              "  }\n",
              "\n",
              "  .colab-df-quickchart {\n",
              "    background-color: var(--bg-color);\n",
              "    border: none;\n",
              "    border-radius: 50%;\n",
              "    cursor: pointer;\n",
              "    display: none;\n",
              "    fill: var(--fill-color);\n",
              "    height: 32px;\n",
              "    padding: 0;\n",
              "    width: 32px;\n",
              "  }\n",
              "\n",
              "  .colab-df-quickchart:hover {\n",
              "    background-color: var(--hover-bg-color);\n",
              "    box-shadow: 0 1px 2px rgba(60, 64, 67, 0.3), 0 1px 3px 1px rgba(60, 64, 67, 0.15);\n",
              "    fill: var(--button-hover-fill-color);\n",
              "  }\n",
              "\n",
              "  .colab-df-quickchart-complete:disabled,\n",
              "  .colab-df-quickchart-complete:disabled:hover {\n",
              "    background-color: var(--disabled-bg-color);\n",
              "    fill: var(--disabled-fill-color);\n",
              "    box-shadow: none;\n",
              "  }\n",
              "\n",
              "  .colab-df-spinner {\n",
              "    border: 2px solid var(--fill-color);\n",
              "    border-color: transparent;\n",
              "    border-bottom-color: var(--fill-color);\n",
              "    animation:\n",
              "      spin 1s steps(1) infinite;\n",
              "  }\n",
              "\n",
              "  @keyframes spin {\n",
              "    0% {\n",
              "      border-color: transparent;\n",
              "      border-bottom-color: var(--fill-color);\n",
              "      border-left-color: var(--fill-color);\n",
              "    }\n",
              "    20% {\n",
              "      border-color: transparent;\n",
              "      border-left-color: var(--fill-color);\n",
              "      border-top-color: var(--fill-color);\n",
              "    }\n",
              "    30% {\n",
              "      border-color: transparent;\n",
              "      border-left-color: var(--fill-color);\n",
              "      border-top-color: var(--fill-color);\n",
              "      border-right-color: var(--fill-color);\n",
              "    }\n",
              "    40% {\n",
              "      border-color: transparent;\n",
              "      border-right-color: var(--fill-color);\n",
              "      border-top-color: var(--fill-color);\n",
              "    }\n",
              "    60% {\n",
              "      border-color: transparent;\n",
              "      border-right-color: var(--fill-color);\n",
              "    }\n",
              "    80% {\n",
              "      border-color: transparent;\n",
              "      border-right-color: var(--fill-color);\n",
              "      border-bottom-color: var(--fill-color);\n",
              "    }\n",
              "    90% {\n",
              "      border-color: transparent;\n",
              "      border-bottom-color: var(--fill-color);\n",
              "    }\n",
              "  }\n",
              "</style>\n",
              "\n",
              "      <script>\n",
              "        async function quickchart(key) {\n",
              "          const quickchartButtonEl =\n",
              "            document.querySelector('#' + key + ' button');\n",
              "          quickchartButtonEl.disabled = true;  // To prevent multiple clicks.\n",
              "          quickchartButtonEl.classList.add('colab-df-spinner');\n",
              "          try {\n",
              "            const charts = await google.colab.kernel.invokeFunction(\n",
              "                'suggestCharts', [key], {});\n",
              "          } catch (error) {\n",
              "            console.error('Error during call to suggestCharts:', error);\n",
              "          }\n",
              "          quickchartButtonEl.classList.remove('colab-df-spinner');\n",
              "          quickchartButtonEl.classList.add('colab-df-quickchart-complete');\n",
              "        }\n",
              "        (() => {\n",
              "          let quickchartButtonEl =\n",
              "            document.querySelector('#df-606deb87-8e30-45bd-a339-6a33bd63c81d button');\n",
              "          quickchartButtonEl.style.display =\n",
              "            google.colab.kernel.accessAllowed ? 'block' : 'none';\n",
              "        })();\n",
              "      </script>\n",
              "    </div>\n",
              "\n",
              "    </div>\n",
              "  </div>\n"
            ],
            "application/vnd.google.colaboratory.intrinsic+json": {
              "type": "dataframe",
              "variable_name": "df_cooking",
              "summary": "{\n  \"name\": \"df_cooking\",\n  \"rows\": 2452,\n  \"fields\": [\n    {\n      \"column\": \"Title\",\n      \"properties\": {\n        \"dtype\": \"string\",\n        \"num_unique_values\": 2452,\n        \"samples\": [\n          \"Tempting Treats: Canapes: Over 100 Cocktail Party Recipes\",\n          \"My learn to cook book\",\n          \"Grilling America\"\n        ],\n        \"semantic_type\": \"\",\n        \"description\": \"\"\n      }\n    },\n    {\n      \"column\": \"categories\",\n      \"properties\": {\n        \"dtype\": \"object\",\n        \"semantic_type\": \"\",\n        \"description\": \"\"\n      }\n    },\n    {\n      \"column\": \"authors\",\n      \"properties\": {\n        \"dtype\": \"string\",\n        \"num_unique_values\": 2008,\n        \"samples\": [\n          \"['Helene Siegel', 'Karen Gillingham']\",\n          \"['Laurie Colwin']\",\n          \"['Daniel Rogov']\"\n        ],\n        \"semantic_type\": \"\",\n        \"description\": \"\"\n      }\n    },\n    {\n      \"column\": \"publishedDate\",\n      \"properties\": {\n        \"dtype\": \"category\",\n        \"num_unique_values\": 1094,\n        \"samples\": [\n          \"2006-02-02\",\n          \"2003-09-01\",\n          \"2002-04-01\"\n        ],\n        \"semantic_type\": \"\",\n        \"description\": \"\"\n      }\n    }\n  ]\n}"
            }
          },
          "metadata": {},
          "execution_count": 13
        }
      ],
      "source": [
        "df_cooking.head()"
      ]
    },
    {
      "cell_type": "code",
      "execution_count": 14,
      "metadata": {
        "id": "CowXgzpU0ll2",
        "outputId": "f0895789-6c5d-4a6c-db9a-9c2f60559b46",
        "colab": {
          "base_uri": "https://localhost:8080/"
        }
      },
      "outputs": [
        {
          "output_type": "execute_result",
          "data": {
            "text/plain": [
              "(2452, 4)"
            ]
          },
          "metadata": {},
          "execution_count": 14
        }
      ],
      "source": [
        "df_cooking.shape"
      ]
    },
    {
      "cell_type": "code",
      "execution_count": 15,
      "metadata": {
        "id": "PkLbOFYb0ll2"
      },
      "outputs": [],
      "source": [
        "# remove rows with the same values for authors and publishedDate\n",
        "df_cooking = df_cooking.drop_duplicates(subset=['authors', 'publishedDate'])\n",
        "\n",
        "# remove rows with the same values for title\n",
        "df_cooking = df_cooking.drop_duplicates(subset=['Title'])"
      ]
    },
    {
      "cell_type": "code",
      "execution_count": 16,
      "metadata": {
        "id": "XB6Gekek0ll3",
        "outputId": "6b2ab865-249e-44c3-b80d-7e2a0a1bca93",
        "colab": {
          "base_uri": "https://localhost:8080/"
        }
      },
      "outputs": [
        {
          "output_type": "execute_result",
          "data": {
            "text/plain": [
              "(2319, 4)"
            ]
          },
          "metadata": {},
          "execution_count": 16
        }
      ],
      "source": [
        "df_cooking.shape"
      ]
    },
    {
      "cell_type": "code",
      "execution_count": 17,
      "metadata": {
        "id": "1-4TnVcU0ll3"
      },
      "outputs": [],
      "source": [
        "# keep only column Title\n",
        "df_cooking = df_cooking[['Title']]"
      ]
    },
    {
      "cell_type": "code",
      "execution_count": 18,
      "metadata": {
        "id": "Yqpnoefd0ll3",
        "outputId": "1eb2d9f4-2ece-4fc3-929a-76c37243b3cd",
        "colab": {
          "base_uri": "https://localhost:8080/",
          "height": 206
        }
      },
      "outputs": [
        {
          "output_type": "execute_result",
          "data": {
            "text/plain": [
              "                                                 Title\n",
              "19                                    Alaska Sourdough\n",
              "199                                 Old-Fashioned Ckbk\n",
              "280  Basil: A Book of Recipes (The Little Recipe Bo...\n",
              "351                                  Vino Para Dummies\n",
              "423  Flavors of Korea: Delicious Vegetarian Cuisine..."
            ],
            "text/html": [
              "\n",
              "  <div id=\"df-65102ff9-cc93-4b04-97cb-a8e7ceb95fcb\" class=\"colab-df-container\">\n",
              "    <div>\n",
              "<style scoped>\n",
              "    .dataframe tbody tr th:only-of-type {\n",
              "        vertical-align: middle;\n",
              "    }\n",
              "\n",
              "    .dataframe tbody tr th {\n",
              "        vertical-align: top;\n",
              "    }\n",
              "\n",
              "    .dataframe thead th {\n",
              "        text-align: right;\n",
              "    }\n",
              "</style>\n",
              "<table border=\"1\" class=\"dataframe\">\n",
              "  <thead>\n",
              "    <tr style=\"text-align: right;\">\n",
              "      <th></th>\n",
              "      <th>Title</th>\n",
              "    </tr>\n",
              "  </thead>\n",
              "  <tbody>\n",
              "    <tr>\n",
              "      <th>19</th>\n",
              "      <td>Alaska Sourdough</td>\n",
              "    </tr>\n",
              "    <tr>\n",
              "      <th>199</th>\n",
              "      <td>Old-Fashioned Ckbk</td>\n",
              "    </tr>\n",
              "    <tr>\n",
              "      <th>280</th>\n",
              "      <td>Basil: A Book of Recipes (The Little Recipe Bo...</td>\n",
              "    </tr>\n",
              "    <tr>\n",
              "      <th>351</th>\n",
              "      <td>Vino Para Dummies</td>\n",
              "    </tr>\n",
              "    <tr>\n",
              "      <th>423</th>\n",
              "      <td>Flavors of Korea: Delicious Vegetarian Cuisine...</td>\n",
              "    </tr>\n",
              "  </tbody>\n",
              "</table>\n",
              "</div>\n",
              "    <div class=\"colab-df-buttons\">\n",
              "\n",
              "  <div class=\"colab-df-container\">\n",
              "    <button class=\"colab-df-convert\" onclick=\"convertToInteractive('df-65102ff9-cc93-4b04-97cb-a8e7ceb95fcb')\"\n",
              "            title=\"Convert this dataframe to an interactive table.\"\n",
              "            style=\"display:none;\">\n",
              "\n",
              "  <svg xmlns=\"http://www.w3.org/2000/svg\" height=\"24px\" viewBox=\"0 -960 960 960\">\n",
              "    <path d=\"M120-120v-720h720v720H120Zm60-500h600v-160H180v160Zm220 220h160v-160H400v160Zm0 220h160v-160H400v160ZM180-400h160v-160H180v160Zm440 0h160v-160H620v160ZM180-180h160v-160H180v160Zm440 0h160v-160H620v160Z\"/>\n",
              "  </svg>\n",
              "    </button>\n",
              "\n",
              "  <style>\n",
              "    .colab-df-container {\n",
              "      display:flex;\n",
              "      gap: 12px;\n",
              "    }\n",
              "\n",
              "    .colab-df-convert {\n",
              "      background-color: #E8F0FE;\n",
              "      border: none;\n",
              "      border-radius: 50%;\n",
              "      cursor: pointer;\n",
              "      display: none;\n",
              "      fill: #1967D2;\n",
              "      height: 32px;\n",
              "      padding: 0 0 0 0;\n",
              "      width: 32px;\n",
              "    }\n",
              "\n",
              "    .colab-df-convert:hover {\n",
              "      background-color: #E2EBFA;\n",
              "      box-shadow: 0px 1px 2px rgba(60, 64, 67, 0.3), 0px 1px 3px 1px rgba(60, 64, 67, 0.15);\n",
              "      fill: #174EA6;\n",
              "    }\n",
              "\n",
              "    .colab-df-buttons div {\n",
              "      margin-bottom: 4px;\n",
              "    }\n",
              "\n",
              "    [theme=dark] .colab-df-convert {\n",
              "      background-color: #3B4455;\n",
              "      fill: #D2E3FC;\n",
              "    }\n",
              "\n",
              "    [theme=dark] .colab-df-convert:hover {\n",
              "      background-color: #434B5C;\n",
              "      box-shadow: 0px 1px 3px 1px rgba(0, 0, 0, 0.15);\n",
              "      filter: drop-shadow(0px 1px 2px rgba(0, 0, 0, 0.3));\n",
              "      fill: #FFFFFF;\n",
              "    }\n",
              "  </style>\n",
              "\n",
              "    <script>\n",
              "      const buttonEl =\n",
              "        document.querySelector('#df-65102ff9-cc93-4b04-97cb-a8e7ceb95fcb button.colab-df-convert');\n",
              "      buttonEl.style.display =\n",
              "        google.colab.kernel.accessAllowed ? 'block' : 'none';\n",
              "\n",
              "      async function convertToInteractive(key) {\n",
              "        const element = document.querySelector('#df-65102ff9-cc93-4b04-97cb-a8e7ceb95fcb');\n",
              "        const dataTable =\n",
              "          await google.colab.kernel.invokeFunction('convertToInteractive',\n",
              "                                                    [key], {});\n",
              "        if (!dataTable) return;\n",
              "\n",
              "        const docLinkHtml = 'Like what you see? Visit the ' +\n",
              "          '<a target=\"_blank\" href=https://colab.research.google.com/notebooks/data_table.ipynb>data table notebook</a>'\n",
              "          + ' to learn more about interactive tables.';\n",
              "        element.innerHTML = '';\n",
              "        dataTable['output_type'] = 'display_data';\n",
              "        await google.colab.output.renderOutput(dataTable, element);\n",
              "        const docLink = document.createElement('div');\n",
              "        docLink.innerHTML = docLinkHtml;\n",
              "        element.appendChild(docLink);\n",
              "      }\n",
              "    </script>\n",
              "  </div>\n",
              "\n",
              "\n",
              "    <div id=\"df-2b4a5c23-4c0a-4b0c-ae34-d088cd03102c\">\n",
              "      <button class=\"colab-df-quickchart\" onclick=\"quickchart('df-2b4a5c23-4c0a-4b0c-ae34-d088cd03102c')\"\n",
              "                title=\"Suggest charts\"\n",
              "                style=\"display:none;\">\n",
              "\n",
              "<svg xmlns=\"http://www.w3.org/2000/svg\" height=\"24px\"viewBox=\"0 0 24 24\"\n",
              "     width=\"24px\">\n",
              "    <g>\n",
              "        <path d=\"M19 3H5c-1.1 0-2 .9-2 2v14c0 1.1.9 2 2 2h14c1.1 0 2-.9 2-2V5c0-1.1-.9-2-2-2zM9 17H7v-7h2v7zm4 0h-2V7h2v10zm4 0h-2v-4h2v4z\"/>\n",
              "    </g>\n",
              "</svg>\n",
              "      </button>\n",
              "\n",
              "<style>\n",
              "  .colab-df-quickchart {\n",
              "      --bg-color: #E8F0FE;\n",
              "      --fill-color: #1967D2;\n",
              "      --hover-bg-color: #E2EBFA;\n",
              "      --hover-fill-color: #174EA6;\n",
              "      --disabled-fill-color: #AAA;\n",
              "      --disabled-bg-color: #DDD;\n",
              "  }\n",
              "\n",
              "  [theme=dark] .colab-df-quickchart {\n",
              "      --bg-color: #3B4455;\n",
              "      --fill-color: #D2E3FC;\n",
              "      --hover-bg-color: #434B5C;\n",
              "      --hover-fill-color: #FFFFFF;\n",
              "      --disabled-bg-color: #3B4455;\n",
              "      --disabled-fill-color: #666;\n",
              "  }\n",
              "\n",
              "  .colab-df-quickchart {\n",
              "    background-color: var(--bg-color);\n",
              "    border: none;\n",
              "    border-radius: 50%;\n",
              "    cursor: pointer;\n",
              "    display: none;\n",
              "    fill: var(--fill-color);\n",
              "    height: 32px;\n",
              "    padding: 0;\n",
              "    width: 32px;\n",
              "  }\n",
              "\n",
              "  .colab-df-quickchart:hover {\n",
              "    background-color: var(--hover-bg-color);\n",
              "    box-shadow: 0 1px 2px rgba(60, 64, 67, 0.3), 0 1px 3px 1px rgba(60, 64, 67, 0.15);\n",
              "    fill: var(--button-hover-fill-color);\n",
              "  }\n",
              "\n",
              "  .colab-df-quickchart-complete:disabled,\n",
              "  .colab-df-quickchart-complete:disabled:hover {\n",
              "    background-color: var(--disabled-bg-color);\n",
              "    fill: var(--disabled-fill-color);\n",
              "    box-shadow: none;\n",
              "  }\n",
              "\n",
              "  .colab-df-spinner {\n",
              "    border: 2px solid var(--fill-color);\n",
              "    border-color: transparent;\n",
              "    border-bottom-color: var(--fill-color);\n",
              "    animation:\n",
              "      spin 1s steps(1) infinite;\n",
              "  }\n",
              "\n",
              "  @keyframes spin {\n",
              "    0% {\n",
              "      border-color: transparent;\n",
              "      border-bottom-color: var(--fill-color);\n",
              "      border-left-color: var(--fill-color);\n",
              "    }\n",
              "    20% {\n",
              "      border-color: transparent;\n",
              "      border-left-color: var(--fill-color);\n",
              "      border-top-color: var(--fill-color);\n",
              "    }\n",
              "    30% {\n",
              "      border-color: transparent;\n",
              "      border-left-color: var(--fill-color);\n",
              "      border-top-color: var(--fill-color);\n",
              "      border-right-color: var(--fill-color);\n",
              "    }\n",
              "    40% {\n",
              "      border-color: transparent;\n",
              "      border-right-color: var(--fill-color);\n",
              "      border-top-color: var(--fill-color);\n",
              "    }\n",
              "    60% {\n",
              "      border-color: transparent;\n",
              "      border-right-color: var(--fill-color);\n",
              "    }\n",
              "    80% {\n",
              "      border-color: transparent;\n",
              "      border-right-color: var(--fill-color);\n",
              "      border-bottom-color: var(--fill-color);\n",
              "    }\n",
              "    90% {\n",
              "      border-color: transparent;\n",
              "      border-bottom-color: var(--fill-color);\n",
              "    }\n",
              "  }\n",
              "</style>\n",
              "\n",
              "      <script>\n",
              "        async function quickchart(key) {\n",
              "          const quickchartButtonEl =\n",
              "            document.querySelector('#' + key + ' button');\n",
              "          quickchartButtonEl.disabled = true;  // To prevent multiple clicks.\n",
              "          quickchartButtonEl.classList.add('colab-df-spinner');\n",
              "          try {\n",
              "            const charts = await google.colab.kernel.invokeFunction(\n",
              "                'suggestCharts', [key], {});\n",
              "          } catch (error) {\n",
              "            console.error('Error during call to suggestCharts:', error);\n",
              "          }\n",
              "          quickchartButtonEl.classList.remove('colab-df-spinner');\n",
              "          quickchartButtonEl.classList.add('colab-df-quickchart-complete');\n",
              "        }\n",
              "        (() => {\n",
              "          let quickchartButtonEl =\n",
              "            document.querySelector('#df-2b4a5c23-4c0a-4b0c-ae34-d088cd03102c button');\n",
              "          quickchartButtonEl.style.display =\n",
              "            google.colab.kernel.accessAllowed ? 'block' : 'none';\n",
              "        })();\n",
              "      </script>\n",
              "    </div>\n",
              "\n",
              "    </div>\n",
              "  </div>\n"
            ],
            "application/vnd.google.colaboratory.intrinsic+json": {
              "type": "dataframe",
              "variable_name": "df_cooking",
              "summary": "{\n  \"name\": \"df_cooking\",\n  \"rows\": 2319,\n  \"fields\": [\n    {\n      \"column\": \"Title\",\n      \"properties\": {\n        \"dtype\": \"string\",\n        \"num_unique_values\": 2319,\n        \"samples\": [\n          \"Dairy Cookbook\",\n          \"Tailgate Party Cookbook\",\n          \"Bevelyn Blair's Everyday Pies: The Ultimate Workday, Weekend, and Special Occasion Pie Book\"\n        ],\n        \"semantic_type\": \"\",\n        \"description\": \"\"\n      }\n    }\n  ]\n}"
            }
          },
          "metadata": {},
          "execution_count": 18
        }
      ],
      "source": [
        "df_cooking.head()"
      ]
    },
    {
      "cell_type": "markdown",
      "metadata": {
        "id": "4QMa0FD70ll3"
      },
      "source": [
        "## Loading and Preprocessing Books Rating Data"
      ]
    },
    {
      "cell_type": "code",
      "execution_count": 19,
      "metadata": {
        "id": "nNh7UrdN0ll3"
      },
      "outputs": [],
      "source": [
        "books_rating = pd.read_csv(\"amazon-books-reviews/Books_rating.csv\")"
      ]
    },
    {
      "cell_type": "code",
      "execution_count": 20,
      "metadata": {
        "id": "JZ9cz1N_0ll3",
        "outputId": "f28b9885-e993-4104-caa7-c10d1ddbbda2",
        "colab": {
          "base_uri": "https://localhost:8080/",
          "height": 466
        }
      },
      "outputs": [
        {
          "output_type": "execute_result",
          "data": {
            "text/plain": [
              "           Id                           Title  Price         User_id  \\\n",
              "0  1882931173  Its Only Art If Its Well Hung!    NaN   AVCGYZL8FQQTD   \n",
              "1  0826414346        Dr. Seuss: American Icon    NaN  A30TK6U7DNS82R   \n",
              "2  0826414346        Dr. Seuss: American Icon    NaN  A3UH4UZ4RSVO82   \n",
              "3  0826414346        Dr. Seuss: American Icon    NaN  A2MVUWT453QH61   \n",
              "4  0826414346        Dr. Seuss: American Icon    NaN  A22X4XUPKF66MR   \n",
              "\n",
              "                          profileName review/helpfulness  review/score  \\\n",
              "0               Jim of Oz \"jim-of-oz\"                7/7           4.0   \n",
              "1                       Kevin Killian              10/10           5.0   \n",
              "2                        John Granger              10/11           5.0   \n",
              "3  Roy E. Perry \"amateur philosopher\"                7/7           4.0   \n",
              "4     D. H. Richards \"ninthwavestore\"                3/3           4.0   \n",
              "\n",
              "   review/time                                   review/summary  \\\n",
              "0    940636800           Nice collection of Julie Strain images   \n",
              "1   1095724800                                Really Enjoyed It   \n",
              "2   1078790400  Essential for every personal and Public Library   \n",
              "3   1090713600  Phlip Nel gives silly Seuss a serious treatment   \n",
              "4   1107993600                           Good academic overview   \n",
              "\n",
              "                                         review/text  \n",
              "0  This is only for Julie Strain fans. It's a col...  \n",
              "1  I don't care much for Dr. Seuss but after read...  \n",
              "2  If people become the books they read and if \"t...  \n",
              "3  Theodore Seuss Geisel (1904-1991), aka &quot;D...  \n",
              "4  Philip Nel - Dr. Seuss: American IconThis is b...  "
            ],
            "text/html": [
              "\n",
              "  <div id=\"df-8cb43586-7933-4a09-914a-9be3673d70e7\" class=\"colab-df-container\">\n",
              "    <div>\n",
              "<style scoped>\n",
              "    .dataframe tbody tr th:only-of-type {\n",
              "        vertical-align: middle;\n",
              "    }\n",
              "\n",
              "    .dataframe tbody tr th {\n",
              "        vertical-align: top;\n",
              "    }\n",
              "\n",
              "    .dataframe thead th {\n",
              "        text-align: right;\n",
              "    }\n",
              "</style>\n",
              "<table border=\"1\" class=\"dataframe\">\n",
              "  <thead>\n",
              "    <tr style=\"text-align: right;\">\n",
              "      <th></th>\n",
              "      <th>Id</th>\n",
              "      <th>Title</th>\n",
              "      <th>Price</th>\n",
              "      <th>User_id</th>\n",
              "      <th>profileName</th>\n",
              "      <th>review/helpfulness</th>\n",
              "      <th>review/score</th>\n",
              "      <th>review/time</th>\n",
              "      <th>review/summary</th>\n",
              "      <th>review/text</th>\n",
              "    </tr>\n",
              "  </thead>\n",
              "  <tbody>\n",
              "    <tr>\n",
              "      <th>0</th>\n",
              "      <td>1882931173</td>\n",
              "      <td>Its Only Art If Its Well Hung!</td>\n",
              "      <td>NaN</td>\n",
              "      <td>AVCGYZL8FQQTD</td>\n",
              "      <td>Jim of Oz \"jim-of-oz\"</td>\n",
              "      <td>7/7</td>\n",
              "      <td>4.0</td>\n",
              "      <td>940636800</td>\n",
              "      <td>Nice collection of Julie Strain images</td>\n",
              "      <td>This is only for Julie Strain fans. It's a col...</td>\n",
              "    </tr>\n",
              "    <tr>\n",
              "      <th>1</th>\n",
              "      <td>0826414346</td>\n",
              "      <td>Dr. Seuss: American Icon</td>\n",
              "      <td>NaN</td>\n",
              "      <td>A30TK6U7DNS82R</td>\n",
              "      <td>Kevin Killian</td>\n",
              "      <td>10/10</td>\n",
              "      <td>5.0</td>\n",
              "      <td>1095724800</td>\n",
              "      <td>Really Enjoyed It</td>\n",
              "      <td>I don't care much for Dr. Seuss but after read...</td>\n",
              "    </tr>\n",
              "    <tr>\n",
              "      <th>2</th>\n",
              "      <td>0826414346</td>\n",
              "      <td>Dr. Seuss: American Icon</td>\n",
              "      <td>NaN</td>\n",
              "      <td>A3UH4UZ4RSVO82</td>\n",
              "      <td>John Granger</td>\n",
              "      <td>10/11</td>\n",
              "      <td>5.0</td>\n",
              "      <td>1078790400</td>\n",
              "      <td>Essential for every personal and Public Library</td>\n",
              "      <td>If people become the books they read and if \"t...</td>\n",
              "    </tr>\n",
              "    <tr>\n",
              "      <th>3</th>\n",
              "      <td>0826414346</td>\n",
              "      <td>Dr. Seuss: American Icon</td>\n",
              "      <td>NaN</td>\n",
              "      <td>A2MVUWT453QH61</td>\n",
              "      <td>Roy E. Perry \"amateur philosopher\"</td>\n",
              "      <td>7/7</td>\n",
              "      <td>4.0</td>\n",
              "      <td>1090713600</td>\n",
              "      <td>Phlip Nel gives silly Seuss a serious treatment</td>\n",
              "      <td>Theodore Seuss Geisel (1904-1991), aka &amp;quot;D...</td>\n",
              "    </tr>\n",
              "    <tr>\n",
              "      <th>4</th>\n",
              "      <td>0826414346</td>\n",
              "      <td>Dr. Seuss: American Icon</td>\n",
              "      <td>NaN</td>\n",
              "      <td>A22X4XUPKF66MR</td>\n",
              "      <td>D. H. Richards \"ninthwavestore\"</td>\n",
              "      <td>3/3</td>\n",
              "      <td>4.0</td>\n",
              "      <td>1107993600</td>\n",
              "      <td>Good academic overview</td>\n",
              "      <td>Philip Nel - Dr. Seuss: American IconThis is b...</td>\n",
              "    </tr>\n",
              "  </tbody>\n",
              "</table>\n",
              "</div>\n",
              "    <div class=\"colab-df-buttons\">\n",
              "\n",
              "  <div class=\"colab-df-container\">\n",
              "    <button class=\"colab-df-convert\" onclick=\"convertToInteractive('df-8cb43586-7933-4a09-914a-9be3673d70e7')\"\n",
              "            title=\"Convert this dataframe to an interactive table.\"\n",
              "            style=\"display:none;\">\n",
              "\n",
              "  <svg xmlns=\"http://www.w3.org/2000/svg\" height=\"24px\" viewBox=\"0 -960 960 960\">\n",
              "    <path d=\"M120-120v-720h720v720H120Zm60-500h600v-160H180v160Zm220 220h160v-160H400v160Zm0 220h160v-160H400v160ZM180-400h160v-160H180v160Zm440 0h160v-160H620v160ZM180-180h160v-160H180v160Zm440 0h160v-160H620v160Z\"/>\n",
              "  </svg>\n",
              "    </button>\n",
              "\n",
              "  <style>\n",
              "    .colab-df-container {\n",
              "      display:flex;\n",
              "      gap: 12px;\n",
              "    }\n",
              "\n",
              "    .colab-df-convert {\n",
              "      background-color: #E8F0FE;\n",
              "      border: none;\n",
              "      border-radius: 50%;\n",
              "      cursor: pointer;\n",
              "      display: none;\n",
              "      fill: #1967D2;\n",
              "      height: 32px;\n",
              "      padding: 0 0 0 0;\n",
              "      width: 32px;\n",
              "    }\n",
              "\n",
              "    .colab-df-convert:hover {\n",
              "      background-color: #E2EBFA;\n",
              "      box-shadow: 0px 1px 2px rgba(60, 64, 67, 0.3), 0px 1px 3px 1px rgba(60, 64, 67, 0.15);\n",
              "      fill: #174EA6;\n",
              "    }\n",
              "\n",
              "    .colab-df-buttons div {\n",
              "      margin-bottom: 4px;\n",
              "    }\n",
              "\n",
              "    [theme=dark] .colab-df-convert {\n",
              "      background-color: #3B4455;\n",
              "      fill: #D2E3FC;\n",
              "    }\n",
              "\n",
              "    [theme=dark] .colab-df-convert:hover {\n",
              "      background-color: #434B5C;\n",
              "      box-shadow: 0px 1px 3px 1px rgba(0, 0, 0, 0.15);\n",
              "      filter: drop-shadow(0px 1px 2px rgba(0, 0, 0, 0.3));\n",
              "      fill: #FFFFFF;\n",
              "    }\n",
              "  </style>\n",
              "\n",
              "    <script>\n",
              "      const buttonEl =\n",
              "        document.querySelector('#df-8cb43586-7933-4a09-914a-9be3673d70e7 button.colab-df-convert');\n",
              "      buttonEl.style.display =\n",
              "        google.colab.kernel.accessAllowed ? 'block' : 'none';\n",
              "\n",
              "      async function convertToInteractive(key) {\n",
              "        const element = document.querySelector('#df-8cb43586-7933-4a09-914a-9be3673d70e7');\n",
              "        const dataTable =\n",
              "          await google.colab.kernel.invokeFunction('convertToInteractive',\n",
              "                                                    [key], {});\n",
              "        if (!dataTable) return;\n",
              "\n",
              "        const docLinkHtml = 'Like what you see? Visit the ' +\n",
              "          '<a target=\"_blank\" href=https://colab.research.google.com/notebooks/data_table.ipynb>data table notebook</a>'\n",
              "          + ' to learn more about interactive tables.';\n",
              "        element.innerHTML = '';\n",
              "        dataTable['output_type'] = 'display_data';\n",
              "        await google.colab.output.renderOutput(dataTable, element);\n",
              "        const docLink = document.createElement('div');\n",
              "        docLink.innerHTML = docLinkHtml;\n",
              "        element.appendChild(docLink);\n",
              "      }\n",
              "    </script>\n",
              "  </div>\n",
              "\n",
              "\n",
              "    <div id=\"df-c063884d-58fe-4560-91fc-3ec43c6e9a34\">\n",
              "      <button class=\"colab-df-quickchart\" onclick=\"quickchart('df-c063884d-58fe-4560-91fc-3ec43c6e9a34')\"\n",
              "                title=\"Suggest charts\"\n",
              "                style=\"display:none;\">\n",
              "\n",
              "<svg xmlns=\"http://www.w3.org/2000/svg\" height=\"24px\"viewBox=\"0 0 24 24\"\n",
              "     width=\"24px\">\n",
              "    <g>\n",
              "        <path d=\"M19 3H5c-1.1 0-2 .9-2 2v14c0 1.1.9 2 2 2h14c1.1 0 2-.9 2-2V5c0-1.1-.9-2-2-2zM9 17H7v-7h2v7zm4 0h-2V7h2v10zm4 0h-2v-4h2v4z\"/>\n",
              "    </g>\n",
              "</svg>\n",
              "      </button>\n",
              "\n",
              "<style>\n",
              "  .colab-df-quickchart {\n",
              "      --bg-color: #E8F0FE;\n",
              "      --fill-color: #1967D2;\n",
              "      --hover-bg-color: #E2EBFA;\n",
              "      --hover-fill-color: #174EA6;\n",
              "      --disabled-fill-color: #AAA;\n",
              "      --disabled-bg-color: #DDD;\n",
              "  }\n",
              "\n",
              "  [theme=dark] .colab-df-quickchart {\n",
              "      --bg-color: #3B4455;\n",
              "      --fill-color: #D2E3FC;\n",
              "      --hover-bg-color: #434B5C;\n",
              "      --hover-fill-color: #FFFFFF;\n",
              "      --disabled-bg-color: #3B4455;\n",
              "      --disabled-fill-color: #666;\n",
              "  }\n",
              "\n",
              "  .colab-df-quickchart {\n",
              "    background-color: var(--bg-color);\n",
              "    border: none;\n",
              "    border-radius: 50%;\n",
              "    cursor: pointer;\n",
              "    display: none;\n",
              "    fill: var(--fill-color);\n",
              "    height: 32px;\n",
              "    padding: 0;\n",
              "    width: 32px;\n",
              "  }\n",
              "\n",
              "  .colab-df-quickchart:hover {\n",
              "    background-color: var(--hover-bg-color);\n",
              "    box-shadow: 0 1px 2px rgba(60, 64, 67, 0.3), 0 1px 3px 1px rgba(60, 64, 67, 0.15);\n",
              "    fill: var(--button-hover-fill-color);\n",
              "  }\n",
              "\n",
              "  .colab-df-quickchart-complete:disabled,\n",
              "  .colab-df-quickchart-complete:disabled:hover {\n",
              "    background-color: var(--disabled-bg-color);\n",
              "    fill: var(--disabled-fill-color);\n",
              "    box-shadow: none;\n",
              "  }\n",
              "\n",
              "  .colab-df-spinner {\n",
              "    border: 2px solid var(--fill-color);\n",
              "    border-color: transparent;\n",
              "    border-bottom-color: var(--fill-color);\n",
              "    animation:\n",
              "      spin 1s steps(1) infinite;\n",
              "  }\n",
              "\n",
              "  @keyframes spin {\n",
              "    0% {\n",
              "      border-color: transparent;\n",
              "      border-bottom-color: var(--fill-color);\n",
              "      border-left-color: var(--fill-color);\n",
              "    }\n",
              "    20% {\n",
              "      border-color: transparent;\n",
              "      border-left-color: var(--fill-color);\n",
              "      border-top-color: var(--fill-color);\n",
              "    }\n",
              "    30% {\n",
              "      border-color: transparent;\n",
              "      border-left-color: var(--fill-color);\n",
              "      border-top-color: var(--fill-color);\n",
              "      border-right-color: var(--fill-color);\n",
              "    }\n",
              "    40% {\n",
              "      border-color: transparent;\n",
              "      border-right-color: var(--fill-color);\n",
              "      border-top-color: var(--fill-color);\n",
              "    }\n",
              "    60% {\n",
              "      border-color: transparent;\n",
              "      border-right-color: var(--fill-color);\n",
              "    }\n",
              "    80% {\n",
              "      border-color: transparent;\n",
              "      border-right-color: var(--fill-color);\n",
              "      border-bottom-color: var(--fill-color);\n",
              "    }\n",
              "    90% {\n",
              "      border-color: transparent;\n",
              "      border-bottom-color: var(--fill-color);\n",
              "    }\n",
              "  }\n",
              "</style>\n",
              "\n",
              "      <script>\n",
              "        async function quickchart(key) {\n",
              "          const quickchartButtonEl =\n",
              "            document.querySelector('#' + key + ' button');\n",
              "          quickchartButtonEl.disabled = true;  // To prevent multiple clicks.\n",
              "          quickchartButtonEl.classList.add('colab-df-spinner');\n",
              "          try {\n",
              "            const charts = await google.colab.kernel.invokeFunction(\n",
              "                'suggestCharts', [key], {});\n",
              "          } catch (error) {\n",
              "            console.error('Error during call to suggestCharts:', error);\n",
              "          }\n",
              "          quickchartButtonEl.classList.remove('colab-df-spinner');\n",
              "          quickchartButtonEl.classList.add('colab-df-quickchart-complete');\n",
              "        }\n",
              "        (() => {\n",
              "          let quickchartButtonEl =\n",
              "            document.querySelector('#df-c063884d-58fe-4560-91fc-3ec43c6e9a34 button');\n",
              "          quickchartButtonEl.style.display =\n",
              "            google.colab.kernel.accessAllowed ? 'block' : 'none';\n",
              "        })();\n",
              "      </script>\n",
              "    </div>\n",
              "\n",
              "    </div>\n",
              "  </div>\n"
            ],
            "application/vnd.google.colaboratory.intrinsic+json": {
              "type": "dataframe",
              "variable_name": "books_rating"
            }
          },
          "metadata": {},
          "execution_count": 20
        }
      ],
      "source": [
        "books_rating.head()"
      ]
    },
    {
      "cell_type": "code",
      "execution_count": 21,
      "metadata": {
        "id": "msYdErcg0ll3",
        "outputId": "cec11c0f-fb76-402f-fbdf-1e4623471764",
        "colab": {
          "base_uri": "https://localhost:8080/",
          "height": 206
        }
      },
      "outputs": [
        {
          "output_type": "execute_result",
          "data": {
            "text/plain": [
              "                            Title  \\\n",
              "0  Its Only Art If Its Well Hung!   \n",
              "1        Dr. Seuss: American Icon   \n",
              "2        Dr. Seuss: American Icon   \n",
              "3        Dr. Seuss: American Icon   \n",
              "4        Dr. Seuss: American Icon   \n",
              "\n",
              "                                         review/text         User_id  \\\n",
              "0  This is only for Julie Strain fans. It's a col...   AVCGYZL8FQQTD   \n",
              "1  I don't care much for Dr. Seuss but after read...  A30TK6U7DNS82R   \n",
              "2  If people become the books they read and if \"t...  A3UH4UZ4RSVO82   \n",
              "3  Theodore Seuss Geisel (1904-1991), aka &quot;D...  A2MVUWT453QH61   \n",
              "4  Philip Nel - Dr. Seuss: American IconThis is b...  A22X4XUPKF66MR   \n",
              "\n",
              "   review/time  \n",
              "0    940636800  \n",
              "1   1095724800  \n",
              "2   1078790400  \n",
              "3   1090713600  \n",
              "4   1107993600  "
            ],
            "text/html": [
              "\n",
              "  <div id=\"df-492f4542-dbb5-47af-a179-76ad0da39968\" class=\"colab-df-container\">\n",
              "    <div>\n",
              "<style scoped>\n",
              "    .dataframe tbody tr th:only-of-type {\n",
              "        vertical-align: middle;\n",
              "    }\n",
              "\n",
              "    .dataframe tbody tr th {\n",
              "        vertical-align: top;\n",
              "    }\n",
              "\n",
              "    .dataframe thead th {\n",
              "        text-align: right;\n",
              "    }\n",
              "</style>\n",
              "<table border=\"1\" class=\"dataframe\">\n",
              "  <thead>\n",
              "    <tr style=\"text-align: right;\">\n",
              "      <th></th>\n",
              "      <th>Title</th>\n",
              "      <th>review/text</th>\n",
              "      <th>User_id</th>\n",
              "      <th>review/time</th>\n",
              "    </tr>\n",
              "  </thead>\n",
              "  <tbody>\n",
              "    <tr>\n",
              "      <th>0</th>\n",
              "      <td>Its Only Art If Its Well Hung!</td>\n",
              "      <td>This is only for Julie Strain fans. It's a col...</td>\n",
              "      <td>AVCGYZL8FQQTD</td>\n",
              "      <td>940636800</td>\n",
              "    </tr>\n",
              "    <tr>\n",
              "      <th>1</th>\n",
              "      <td>Dr. Seuss: American Icon</td>\n",
              "      <td>I don't care much for Dr. Seuss but after read...</td>\n",
              "      <td>A30TK6U7DNS82R</td>\n",
              "      <td>1095724800</td>\n",
              "    </tr>\n",
              "    <tr>\n",
              "      <th>2</th>\n",
              "      <td>Dr. Seuss: American Icon</td>\n",
              "      <td>If people become the books they read and if \"t...</td>\n",
              "      <td>A3UH4UZ4RSVO82</td>\n",
              "      <td>1078790400</td>\n",
              "    </tr>\n",
              "    <tr>\n",
              "      <th>3</th>\n",
              "      <td>Dr. Seuss: American Icon</td>\n",
              "      <td>Theodore Seuss Geisel (1904-1991), aka &amp;quot;D...</td>\n",
              "      <td>A2MVUWT453QH61</td>\n",
              "      <td>1090713600</td>\n",
              "    </tr>\n",
              "    <tr>\n",
              "      <th>4</th>\n",
              "      <td>Dr. Seuss: American Icon</td>\n",
              "      <td>Philip Nel - Dr. Seuss: American IconThis is b...</td>\n",
              "      <td>A22X4XUPKF66MR</td>\n",
              "      <td>1107993600</td>\n",
              "    </tr>\n",
              "  </tbody>\n",
              "</table>\n",
              "</div>\n",
              "    <div class=\"colab-df-buttons\">\n",
              "\n",
              "  <div class=\"colab-df-container\">\n",
              "    <button class=\"colab-df-convert\" onclick=\"convertToInteractive('df-492f4542-dbb5-47af-a179-76ad0da39968')\"\n",
              "            title=\"Convert this dataframe to an interactive table.\"\n",
              "            style=\"display:none;\">\n",
              "\n",
              "  <svg xmlns=\"http://www.w3.org/2000/svg\" height=\"24px\" viewBox=\"0 -960 960 960\">\n",
              "    <path d=\"M120-120v-720h720v720H120Zm60-500h600v-160H180v160Zm220 220h160v-160H400v160Zm0 220h160v-160H400v160ZM180-400h160v-160H180v160Zm440 0h160v-160H620v160ZM180-180h160v-160H180v160Zm440 0h160v-160H620v160Z\"/>\n",
              "  </svg>\n",
              "    </button>\n",
              "\n",
              "  <style>\n",
              "    .colab-df-container {\n",
              "      display:flex;\n",
              "      gap: 12px;\n",
              "    }\n",
              "\n",
              "    .colab-df-convert {\n",
              "      background-color: #E8F0FE;\n",
              "      border: none;\n",
              "      border-radius: 50%;\n",
              "      cursor: pointer;\n",
              "      display: none;\n",
              "      fill: #1967D2;\n",
              "      height: 32px;\n",
              "      padding: 0 0 0 0;\n",
              "      width: 32px;\n",
              "    }\n",
              "\n",
              "    .colab-df-convert:hover {\n",
              "      background-color: #E2EBFA;\n",
              "      box-shadow: 0px 1px 2px rgba(60, 64, 67, 0.3), 0px 1px 3px 1px rgba(60, 64, 67, 0.15);\n",
              "      fill: #174EA6;\n",
              "    }\n",
              "\n",
              "    .colab-df-buttons div {\n",
              "      margin-bottom: 4px;\n",
              "    }\n",
              "\n",
              "    [theme=dark] .colab-df-convert {\n",
              "      background-color: #3B4455;\n",
              "      fill: #D2E3FC;\n",
              "    }\n",
              "\n",
              "    [theme=dark] .colab-df-convert:hover {\n",
              "      background-color: #434B5C;\n",
              "      box-shadow: 0px 1px 3px 1px rgba(0, 0, 0, 0.15);\n",
              "      filter: drop-shadow(0px 1px 2px rgba(0, 0, 0, 0.3));\n",
              "      fill: #FFFFFF;\n",
              "    }\n",
              "  </style>\n",
              "\n",
              "    <script>\n",
              "      const buttonEl =\n",
              "        document.querySelector('#df-492f4542-dbb5-47af-a179-76ad0da39968 button.colab-df-convert');\n",
              "      buttonEl.style.display =\n",
              "        google.colab.kernel.accessAllowed ? 'block' : 'none';\n",
              "\n",
              "      async function convertToInteractive(key) {\n",
              "        const element = document.querySelector('#df-492f4542-dbb5-47af-a179-76ad0da39968');\n",
              "        const dataTable =\n",
              "          await google.colab.kernel.invokeFunction('convertToInteractive',\n",
              "                                                    [key], {});\n",
              "        if (!dataTable) return;\n",
              "\n",
              "        const docLinkHtml = 'Like what you see? Visit the ' +\n",
              "          '<a target=\"_blank\" href=https://colab.research.google.com/notebooks/data_table.ipynb>data table notebook</a>'\n",
              "          + ' to learn more about interactive tables.';\n",
              "        element.innerHTML = '';\n",
              "        dataTable['output_type'] = 'display_data';\n",
              "        await google.colab.output.renderOutput(dataTable, element);\n",
              "        const docLink = document.createElement('div');\n",
              "        docLink.innerHTML = docLinkHtml;\n",
              "        element.appendChild(docLink);\n",
              "      }\n",
              "    </script>\n",
              "  </div>\n",
              "\n",
              "\n",
              "    <div id=\"df-e0ab7f40-a8ef-4ef8-97ae-d3c9a91bf358\">\n",
              "      <button class=\"colab-df-quickchart\" onclick=\"quickchart('df-e0ab7f40-a8ef-4ef8-97ae-d3c9a91bf358')\"\n",
              "                title=\"Suggest charts\"\n",
              "                style=\"display:none;\">\n",
              "\n",
              "<svg xmlns=\"http://www.w3.org/2000/svg\" height=\"24px\"viewBox=\"0 0 24 24\"\n",
              "     width=\"24px\">\n",
              "    <g>\n",
              "        <path d=\"M19 3H5c-1.1 0-2 .9-2 2v14c0 1.1.9 2 2 2h14c1.1 0 2-.9 2-2V5c0-1.1-.9-2-2-2zM9 17H7v-7h2v7zm4 0h-2V7h2v10zm4 0h-2v-4h2v4z\"/>\n",
              "    </g>\n",
              "</svg>\n",
              "      </button>\n",
              "\n",
              "<style>\n",
              "  .colab-df-quickchart {\n",
              "      --bg-color: #E8F0FE;\n",
              "      --fill-color: #1967D2;\n",
              "      --hover-bg-color: #E2EBFA;\n",
              "      --hover-fill-color: #174EA6;\n",
              "      --disabled-fill-color: #AAA;\n",
              "      --disabled-bg-color: #DDD;\n",
              "  }\n",
              "\n",
              "  [theme=dark] .colab-df-quickchart {\n",
              "      --bg-color: #3B4455;\n",
              "      --fill-color: #D2E3FC;\n",
              "      --hover-bg-color: #434B5C;\n",
              "      --hover-fill-color: #FFFFFF;\n",
              "      --disabled-bg-color: #3B4455;\n",
              "      --disabled-fill-color: #666;\n",
              "  }\n",
              "\n",
              "  .colab-df-quickchart {\n",
              "    background-color: var(--bg-color);\n",
              "    border: none;\n",
              "    border-radius: 50%;\n",
              "    cursor: pointer;\n",
              "    display: none;\n",
              "    fill: var(--fill-color);\n",
              "    height: 32px;\n",
              "    padding: 0;\n",
              "    width: 32px;\n",
              "  }\n",
              "\n",
              "  .colab-df-quickchart:hover {\n",
              "    background-color: var(--hover-bg-color);\n",
              "    box-shadow: 0 1px 2px rgba(60, 64, 67, 0.3), 0 1px 3px 1px rgba(60, 64, 67, 0.15);\n",
              "    fill: var(--button-hover-fill-color);\n",
              "  }\n",
              "\n",
              "  .colab-df-quickchart-complete:disabled,\n",
              "  .colab-df-quickchart-complete:disabled:hover {\n",
              "    background-color: var(--disabled-bg-color);\n",
              "    fill: var(--disabled-fill-color);\n",
              "    box-shadow: none;\n",
              "  }\n",
              "\n",
              "  .colab-df-spinner {\n",
              "    border: 2px solid var(--fill-color);\n",
              "    border-color: transparent;\n",
              "    border-bottom-color: var(--fill-color);\n",
              "    animation:\n",
              "      spin 1s steps(1) infinite;\n",
              "  }\n",
              "\n",
              "  @keyframes spin {\n",
              "    0% {\n",
              "      border-color: transparent;\n",
              "      border-bottom-color: var(--fill-color);\n",
              "      border-left-color: var(--fill-color);\n",
              "    }\n",
              "    20% {\n",
              "      border-color: transparent;\n",
              "      border-left-color: var(--fill-color);\n",
              "      border-top-color: var(--fill-color);\n",
              "    }\n",
              "    30% {\n",
              "      border-color: transparent;\n",
              "      border-left-color: var(--fill-color);\n",
              "      border-top-color: var(--fill-color);\n",
              "      border-right-color: var(--fill-color);\n",
              "    }\n",
              "    40% {\n",
              "      border-color: transparent;\n",
              "      border-right-color: var(--fill-color);\n",
              "      border-top-color: var(--fill-color);\n",
              "    }\n",
              "    60% {\n",
              "      border-color: transparent;\n",
              "      border-right-color: var(--fill-color);\n",
              "    }\n",
              "    80% {\n",
              "      border-color: transparent;\n",
              "      border-right-color: var(--fill-color);\n",
              "      border-bottom-color: var(--fill-color);\n",
              "    }\n",
              "    90% {\n",
              "      border-color: transparent;\n",
              "      border-bottom-color: var(--fill-color);\n",
              "    }\n",
              "  }\n",
              "</style>\n",
              "\n",
              "      <script>\n",
              "        async function quickchart(key) {\n",
              "          const quickchartButtonEl =\n",
              "            document.querySelector('#' + key + ' button');\n",
              "          quickchartButtonEl.disabled = true;  // To prevent multiple clicks.\n",
              "          quickchartButtonEl.classList.add('colab-df-spinner');\n",
              "          try {\n",
              "            const charts = await google.colab.kernel.invokeFunction(\n",
              "                'suggestCharts', [key], {});\n",
              "          } catch (error) {\n",
              "            console.error('Error during call to suggestCharts:', error);\n",
              "          }\n",
              "          quickchartButtonEl.classList.remove('colab-df-spinner');\n",
              "          quickchartButtonEl.classList.add('colab-df-quickchart-complete');\n",
              "        }\n",
              "        (() => {\n",
              "          let quickchartButtonEl =\n",
              "            document.querySelector('#df-e0ab7f40-a8ef-4ef8-97ae-d3c9a91bf358 button');\n",
              "          quickchartButtonEl.style.display =\n",
              "            google.colab.kernel.accessAllowed ? 'block' : 'none';\n",
              "        })();\n",
              "      </script>\n",
              "    </div>\n",
              "\n",
              "    </div>\n",
              "  </div>\n"
            ],
            "application/vnd.google.colaboratory.intrinsic+json": {
              "type": "dataframe",
              "variable_name": "books_rating"
            }
          },
          "metadata": {},
          "execution_count": 21
        }
      ],
      "source": [
        "# drop the columns that are not needed (Price, review/time, review/summary, profileName, review/text, review/helpfulness)\n",
        "books_rating = books_rating[['Title', 'review/text', 'User_id', 'review/time']]\n",
        "books_rating.head()"
      ]
    },
    {
      "cell_type": "code",
      "execution_count": 22,
      "metadata": {
        "id": "gwnnLMfI0ll3",
        "outputId": "8eb8940c-f225-4575-af16-1f54c707ca75",
        "colab": {
          "base_uri": "https://localhost:8080/"
        }
      },
      "outputs": [
        {
          "output_type": "execute_result",
          "data": {
            "text/plain": [
              "(1548183, 4)"
            ]
          },
          "metadata": {},
          "execution_count": 22
        }
      ],
      "source": [
        "# remove rows with the same unique values for User_id and review/time\n",
        "books_rating = books_rating.drop_duplicates(subset=['User_id', 'review/time']) #unix timestamp\n",
        "books_rating.shape"
      ]
    },
    {
      "cell_type": "code",
      "execution_count": 23,
      "metadata": {
        "id": "-nWXdPKr0ll3"
      },
      "outputs": [],
      "source": [
        "# drop the column review/time\n",
        "books_rating = books_rating.drop(columns=['review/time'])"
      ]
    },
    {
      "cell_type": "code",
      "execution_count": 24,
      "metadata": {
        "id": "UBAgaf7D0ll3",
        "outputId": "2e625156-1750-4f84-a943-d4970c73246e",
        "colab": {
          "base_uri": "https://localhost:8080/",
          "height": 178
        }
      },
      "outputs": [
        {
          "output_type": "execute_result",
          "data": {
            "text/plain": [
              "Title            17\n",
              "review/text       1\n",
              "User_id        5558\n",
              "dtype: int64"
            ],
            "text/html": [
              "<div>\n",
              "<style scoped>\n",
              "    .dataframe tbody tr th:only-of-type {\n",
              "        vertical-align: middle;\n",
              "    }\n",
              "\n",
              "    .dataframe tbody tr th {\n",
              "        vertical-align: top;\n",
              "    }\n",
              "\n",
              "    .dataframe thead th {\n",
              "        text-align: right;\n",
              "    }\n",
              "</style>\n",
              "<table border=\"1\" class=\"dataframe\">\n",
              "  <thead>\n",
              "    <tr style=\"text-align: right;\">\n",
              "      <th></th>\n",
              "      <th>0</th>\n",
              "    </tr>\n",
              "  </thead>\n",
              "  <tbody>\n",
              "    <tr>\n",
              "      <th>Title</th>\n",
              "      <td>17</td>\n",
              "    </tr>\n",
              "    <tr>\n",
              "      <th>review/text</th>\n",
              "      <td>1</td>\n",
              "    </tr>\n",
              "    <tr>\n",
              "      <th>User_id</th>\n",
              "      <td>5558</td>\n",
              "    </tr>\n",
              "  </tbody>\n",
              "</table>\n",
              "</div><br><label><b>dtype:</b> int64</label>"
            ]
          },
          "metadata": {},
          "execution_count": 24
        }
      ],
      "source": [
        "# display null values in the dataset\n",
        "books_rating.isnull().sum()"
      ]
    },
    {
      "cell_type": "code",
      "execution_count": 25,
      "metadata": {
        "id": "OYdTa44D0ll4"
      },
      "outputs": [],
      "source": [
        "# remove null values\n",
        "books_rating = books_rating.dropna()"
      ]
    },
    {
      "cell_type": "code",
      "execution_count": 26,
      "metadata": {
        "id": "NL2U6xWv0ll4",
        "outputId": "0eab0b86-94d0-4292-8bd9-a1c1e4e96775",
        "colab": {
          "base_uri": "https://localhost:8080/"
        }
      },
      "outputs": [
        {
          "output_type": "execute_result",
          "data": {
            "text/plain": [
              "(1542607, 3)"
            ]
          },
          "metadata": {},
          "execution_count": 26
        }
      ],
      "source": [
        "books_rating.shape"
      ]
    },
    {
      "cell_type": "markdown",
      "metadata": {
        "id": "pDS1uu7i0ll4"
      },
      "source": [
        "## Merging Cooking Books with Ratings"
      ]
    },
    {
      "cell_type": "code",
      "execution_count": 27,
      "metadata": {
        "id": "m2dphl1J0ll4",
        "outputId": "f64c14f6-36f5-49e9-b341-ae4d42f2e535",
        "colab": {
          "base_uri": "https://localhost:8080/",
          "height": 206
        }
      },
      "outputs": [
        {
          "output_type": "execute_result",
          "data": {
            "text/plain": [
              "              Title                                        review/text  \\\n",
              "0  Alaska Sourdough  I have been using this book since 1988, the ei...   \n",
              "1  Alaska Sourdough  My poor dogeared, stained copy of this book ca...   \n",
              "2  Alaska Sourdough  As a former Alaskan, I didn't want to have to ...   \n",
              "3  Alaska Sourdough  For those of us who would prefer to use sourdo...   \n",
              "4  Alaska Sourdough  Make the most sublime waffles - crispy outside...   \n",
              "\n",
              "          User_id  \n",
              "0   AC58Z72OB2DDX  \n",
              "1  A3CNQIKVTG9QYO  \n",
              "2  A2UMP9TJTJ6A6B  \n",
              "3   AC2TK7NHKB5C0  \n",
              "4  A22T74YNRM8NTK  "
            ],
            "text/html": [
              "\n",
              "  <div id=\"df-686c4061-ecd0-41e6-ade1-6f6f0712b9e2\" class=\"colab-df-container\">\n",
              "    <div>\n",
              "<style scoped>\n",
              "    .dataframe tbody tr th:only-of-type {\n",
              "        vertical-align: middle;\n",
              "    }\n",
              "\n",
              "    .dataframe tbody tr th {\n",
              "        vertical-align: top;\n",
              "    }\n",
              "\n",
              "    .dataframe thead th {\n",
              "        text-align: right;\n",
              "    }\n",
              "</style>\n",
              "<table border=\"1\" class=\"dataframe\">\n",
              "  <thead>\n",
              "    <tr style=\"text-align: right;\">\n",
              "      <th></th>\n",
              "      <th>Title</th>\n",
              "      <th>review/text</th>\n",
              "      <th>User_id</th>\n",
              "    </tr>\n",
              "  </thead>\n",
              "  <tbody>\n",
              "    <tr>\n",
              "      <th>0</th>\n",
              "      <td>Alaska Sourdough</td>\n",
              "      <td>I have been using this book since 1988, the ei...</td>\n",
              "      <td>AC58Z72OB2DDX</td>\n",
              "    </tr>\n",
              "    <tr>\n",
              "      <th>1</th>\n",
              "      <td>Alaska Sourdough</td>\n",
              "      <td>My poor dogeared, stained copy of this book ca...</td>\n",
              "      <td>A3CNQIKVTG9QYO</td>\n",
              "    </tr>\n",
              "    <tr>\n",
              "      <th>2</th>\n",
              "      <td>Alaska Sourdough</td>\n",
              "      <td>As a former Alaskan, I didn't want to have to ...</td>\n",
              "      <td>A2UMP9TJTJ6A6B</td>\n",
              "    </tr>\n",
              "    <tr>\n",
              "      <th>3</th>\n",
              "      <td>Alaska Sourdough</td>\n",
              "      <td>For those of us who would prefer to use sourdo...</td>\n",
              "      <td>AC2TK7NHKB5C0</td>\n",
              "    </tr>\n",
              "    <tr>\n",
              "      <th>4</th>\n",
              "      <td>Alaska Sourdough</td>\n",
              "      <td>Make the most sublime waffles - crispy outside...</td>\n",
              "      <td>A22T74YNRM8NTK</td>\n",
              "    </tr>\n",
              "  </tbody>\n",
              "</table>\n",
              "</div>\n",
              "    <div class=\"colab-df-buttons\">\n",
              "\n",
              "  <div class=\"colab-df-container\">\n",
              "    <button class=\"colab-df-convert\" onclick=\"convertToInteractive('df-686c4061-ecd0-41e6-ade1-6f6f0712b9e2')\"\n",
              "            title=\"Convert this dataframe to an interactive table.\"\n",
              "            style=\"display:none;\">\n",
              "\n",
              "  <svg xmlns=\"http://www.w3.org/2000/svg\" height=\"24px\" viewBox=\"0 -960 960 960\">\n",
              "    <path d=\"M120-120v-720h720v720H120Zm60-500h600v-160H180v160Zm220 220h160v-160H400v160Zm0 220h160v-160H400v160ZM180-400h160v-160H180v160Zm440 0h160v-160H620v160ZM180-180h160v-160H180v160Zm440 0h160v-160H620v160Z\"/>\n",
              "  </svg>\n",
              "    </button>\n",
              "\n",
              "  <style>\n",
              "    .colab-df-container {\n",
              "      display:flex;\n",
              "      gap: 12px;\n",
              "    }\n",
              "\n",
              "    .colab-df-convert {\n",
              "      background-color: #E8F0FE;\n",
              "      border: none;\n",
              "      border-radius: 50%;\n",
              "      cursor: pointer;\n",
              "      display: none;\n",
              "      fill: #1967D2;\n",
              "      height: 32px;\n",
              "      padding: 0 0 0 0;\n",
              "      width: 32px;\n",
              "    }\n",
              "\n",
              "    .colab-df-convert:hover {\n",
              "      background-color: #E2EBFA;\n",
              "      box-shadow: 0px 1px 2px rgba(60, 64, 67, 0.3), 0px 1px 3px 1px rgba(60, 64, 67, 0.15);\n",
              "      fill: #174EA6;\n",
              "    }\n",
              "\n",
              "    .colab-df-buttons div {\n",
              "      margin-bottom: 4px;\n",
              "    }\n",
              "\n",
              "    [theme=dark] .colab-df-convert {\n",
              "      background-color: #3B4455;\n",
              "      fill: #D2E3FC;\n",
              "    }\n",
              "\n",
              "    [theme=dark] .colab-df-convert:hover {\n",
              "      background-color: #434B5C;\n",
              "      box-shadow: 0px 1px 3px 1px rgba(0, 0, 0, 0.15);\n",
              "      filter: drop-shadow(0px 1px 2px rgba(0, 0, 0, 0.3));\n",
              "      fill: #FFFFFF;\n",
              "    }\n",
              "  </style>\n",
              "\n",
              "    <script>\n",
              "      const buttonEl =\n",
              "        document.querySelector('#df-686c4061-ecd0-41e6-ade1-6f6f0712b9e2 button.colab-df-convert');\n",
              "      buttonEl.style.display =\n",
              "        google.colab.kernel.accessAllowed ? 'block' : 'none';\n",
              "\n",
              "      async function convertToInteractive(key) {\n",
              "        const element = document.querySelector('#df-686c4061-ecd0-41e6-ade1-6f6f0712b9e2');\n",
              "        const dataTable =\n",
              "          await google.colab.kernel.invokeFunction('convertToInteractive',\n",
              "                                                    [key], {});\n",
              "        if (!dataTable) return;\n",
              "\n",
              "        const docLinkHtml = 'Like what you see? Visit the ' +\n",
              "          '<a target=\"_blank\" href=https://colab.research.google.com/notebooks/data_table.ipynb>data table notebook</a>'\n",
              "          + ' to learn more about interactive tables.';\n",
              "        element.innerHTML = '';\n",
              "        dataTable['output_type'] = 'display_data';\n",
              "        await google.colab.output.renderOutput(dataTable, element);\n",
              "        const docLink = document.createElement('div');\n",
              "        docLink.innerHTML = docLinkHtml;\n",
              "        element.appendChild(docLink);\n",
              "      }\n",
              "    </script>\n",
              "  </div>\n",
              "\n",
              "\n",
              "    <div id=\"df-2f4e300e-0965-4652-80c8-e46e238830e4\">\n",
              "      <button class=\"colab-df-quickchart\" onclick=\"quickchart('df-2f4e300e-0965-4652-80c8-e46e238830e4')\"\n",
              "                title=\"Suggest charts\"\n",
              "                style=\"display:none;\">\n",
              "\n",
              "<svg xmlns=\"http://www.w3.org/2000/svg\" height=\"24px\"viewBox=\"0 0 24 24\"\n",
              "     width=\"24px\">\n",
              "    <g>\n",
              "        <path d=\"M19 3H5c-1.1 0-2 .9-2 2v14c0 1.1.9 2 2 2h14c1.1 0 2-.9 2-2V5c0-1.1-.9-2-2-2zM9 17H7v-7h2v7zm4 0h-2V7h2v10zm4 0h-2v-4h2v4z\"/>\n",
              "    </g>\n",
              "</svg>\n",
              "      </button>\n",
              "\n",
              "<style>\n",
              "  .colab-df-quickchart {\n",
              "      --bg-color: #E8F0FE;\n",
              "      --fill-color: #1967D2;\n",
              "      --hover-bg-color: #E2EBFA;\n",
              "      --hover-fill-color: #174EA6;\n",
              "      --disabled-fill-color: #AAA;\n",
              "      --disabled-bg-color: #DDD;\n",
              "  }\n",
              "\n",
              "  [theme=dark] .colab-df-quickchart {\n",
              "      --bg-color: #3B4455;\n",
              "      --fill-color: #D2E3FC;\n",
              "      --hover-bg-color: #434B5C;\n",
              "      --hover-fill-color: #FFFFFF;\n",
              "      --disabled-bg-color: #3B4455;\n",
              "      --disabled-fill-color: #666;\n",
              "  }\n",
              "\n",
              "  .colab-df-quickchart {\n",
              "    background-color: var(--bg-color);\n",
              "    border: none;\n",
              "    border-radius: 50%;\n",
              "    cursor: pointer;\n",
              "    display: none;\n",
              "    fill: var(--fill-color);\n",
              "    height: 32px;\n",
              "    padding: 0;\n",
              "    width: 32px;\n",
              "  }\n",
              "\n",
              "  .colab-df-quickchart:hover {\n",
              "    background-color: var(--hover-bg-color);\n",
              "    box-shadow: 0 1px 2px rgba(60, 64, 67, 0.3), 0 1px 3px 1px rgba(60, 64, 67, 0.15);\n",
              "    fill: var(--button-hover-fill-color);\n",
              "  }\n",
              "\n",
              "  .colab-df-quickchart-complete:disabled,\n",
              "  .colab-df-quickchart-complete:disabled:hover {\n",
              "    background-color: var(--disabled-bg-color);\n",
              "    fill: var(--disabled-fill-color);\n",
              "    box-shadow: none;\n",
              "  }\n",
              "\n",
              "  .colab-df-spinner {\n",
              "    border: 2px solid var(--fill-color);\n",
              "    border-color: transparent;\n",
              "    border-bottom-color: var(--fill-color);\n",
              "    animation:\n",
              "      spin 1s steps(1) infinite;\n",
              "  }\n",
              "\n",
              "  @keyframes spin {\n",
              "    0% {\n",
              "      border-color: transparent;\n",
              "      border-bottom-color: var(--fill-color);\n",
              "      border-left-color: var(--fill-color);\n",
              "    }\n",
              "    20% {\n",
              "      border-color: transparent;\n",
              "      border-left-color: var(--fill-color);\n",
              "      border-top-color: var(--fill-color);\n",
              "    }\n",
              "    30% {\n",
              "      border-color: transparent;\n",
              "      border-left-color: var(--fill-color);\n",
              "      border-top-color: var(--fill-color);\n",
              "      border-right-color: var(--fill-color);\n",
              "    }\n",
              "    40% {\n",
              "      border-color: transparent;\n",
              "      border-right-color: var(--fill-color);\n",
              "      border-top-color: var(--fill-color);\n",
              "    }\n",
              "    60% {\n",
              "      border-color: transparent;\n",
              "      border-right-color: var(--fill-color);\n",
              "    }\n",
              "    80% {\n",
              "      border-color: transparent;\n",
              "      border-right-color: var(--fill-color);\n",
              "      border-bottom-color: var(--fill-color);\n",
              "    }\n",
              "    90% {\n",
              "      border-color: transparent;\n",
              "      border-bottom-color: var(--fill-color);\n",
              "    }\n",
              "  }\n",
              "</style>\n",
              "\n",
              "      <script>\n",
              "        async function quickchart(key) {\n",
              "          const quickchartButtonEl =\n",
              "            document.querySelector('#' + key + ' button');\n",
              "          quickchartButtonEl.disabled = true;  // To prevent multiple clicks.\n",
              "          quickchartButtonEl.classList.add('colab-df-spinner');\n",
              "          try {\n",
              "            const charts = await google.colab.kernel.invokeFunction(\n",
              "                'suggestCharts', [key], {});\n",
              "          } catch (error) {\n",
              "            console.error('Error during call to suggestCharts:', error);\n",
              "          }\n",
              "          quickchartButtonEl.classList.remove('colab-df-spinner');\n",
              "          quickchartButtonEl.classList.add('colab-df-quickchart-complete');\n",
              "        }\n",
              "        (() => {\n",
              "          let quickchartButtonEl =\n",
              "            document.querySelector('#df-2f4e300e-0965-4652-80c8-e46e238830e4 button');\n",
              "          quickchartButtonEl.style.display =\n",
              "            google.colab.kernel.accessAllowed ? 'block' : 'none';\n",
              "        })();\n",
              "      </script>\n",
              "    </div>\n",
              "\n",
              "    </div>\n",
              "  </div>\n"
            ],
            "application/vnd.google.colaboratory.intrinsic+json": {
              "type": "dataframe",
              "variable_name": "df_cooking",
              "summary": "{\n  \"name\": \"df_cooking\",\n  \"rows\": 22434,\n  \"fields\": [\n    {\n      \"column\": \"Title\",\n      \"properties\": {\n        \"dtype\": \"category\",\n        \"num_unique_values\": 2230,\n        \"samples\": [\n          \"Vegetarian Classics: 300 Essential and Easy Recipes for Every Meal\",\n          \"The Best of Taste (Williams-Sonoma)\",\n          \"Dr. Shapiro's Picture Perfect Weight Loss Cookbook: More Than 150 Delicious Recipes for Permanent Weight Loss\"\n        ],\n        \"semantic_type\": \"\",\n        \"description\": \"\"\n      }\n    },\n    {\n      \"column\": \"review/text\",\n      \"properties\": {\n        \"dtype\": \"string\",\n        \"num_unique_values\": 22417,\n        \"samples\": [\n          \"Provides a realistic definition of Belgian brewing methods. Reveals realities of ingredients and fermentation practices. Identifies specific yeasts and their sources.\",\n          \"I read it cover to cover, great fun, lots of fascinating history of the collective. The pizza recipe I tried was excellent. But if you are looking for a book with lots of detailed information on different cheeses and what to serve them with, note that you won't find that here -- the food focus is on baking.\",\n          \"I got this book for my sisters as after a friend recommended this to me. They are constantly trying to get their friends together for some lady night hangouts. Seeing as how all of their occasions involve wine this was a no brainer present for them. They have just set the first night and told what a great book this was for getting their wine club started. I would highly recommend this as a gift for yourself or others.\"\n        ],\n        \"semantic_type\": \"\",\n        \"description\": \"\"\n      }\n    },\n    {\n      \"column\": \"User_id\",\n      \"properties\": {\n        \"dtype\": \"string\",\n        \"num_unique_values\": 20706,\n        \"samples\": [\n          \"A1AG0D7XBPIXWZ\",\n          \"A27HSPLMN470NV\",\n          \"A1VWOH7XJ9B45H\"\n        ],\n        \"semantic_type\": \"\",\n        \"description\": \"\"\n      }\n    }\n  ]\n}"
            }
          },
          "metadata": {},
          "execution_count": 27
        }
      ],
      "source": [
        "# match the books_rating data with the df_romance data using the Title column\n",
        "\n",
        "df_cooking = df_cooking.merge(books_rating, on='Title', how='inner')\n",
        "df_cooking.head()"
      ]
    },
    {
      "cell_type": "markdown",
      "metadata": {
        "id": "hIbWk_yw0ll4"
      },
      "source": [
        "## Final Cleaning"
      ]
    },
    {
      "cell_type": "code",
      "execution_count": 28,
      "metadata": {
        "id": "pF974Yr30ll4",
        "outputId": "e2933466-fbe5-4334-8b3f-6e45a22db105",
        "colab": {
          "base_uri": "https://localhost:8080/"
        }
      },
      "outputs": [
        {
          "output_type": "execute_result",
          "data": {
            "text/plain": [
              "(22434, 3)"
            ]
          },
          "metadata": {},
          "execution_count": 28
        }
      ],
      "source": [
        "# drop rows where User_id is not all caps and that has spaces\n",
        "df_cooking = df_cooking[df_cooking['User_id'].str.isupper() & ~df_cooking['User_id'].str.contains(' ')]\n",
        "df_cooking.shape"
      ]
    },
    {
      "cell_type": "code",
      "execution_count": 29,
      "metadata": {
        "id": "snD1bbgH0ll4",
        "outputId": "87a6e052-b2b9-4bf3-b716-d56042dfb6f9",
        "colab": {
          "base_uri": "https://localhost:8080/",
          "height": 178
        }
      },
      "outputs": [
        {
          "output_type": "execute_result",
          "data": {
            "text/plain": [
              "Title          0\n",
              "review/text    0\n",
              "User_id        0\n",
              "dtype: int64"
            ],
            "text/html": [
              "<div>\n",
              "<style scoped>\n",
              "    .dataframe tbody tr th:only-of-type {\n",
              "        vertical-align: middle;\n",
              "    }\n",
              "\n",
              "    .dataframe tbody tr th {\n",
              "        vertical-align: top;\n",
              "    }\n",
              "\n",
              "    .dataframe thead th {\n",
              "        text-align: right;\n",
              "    }\n",
              "</style>\n",
              "<table border=\"1\" class=\"dataframe\">\n",
              "  <thead>\n",
              "    <tr style=\"text-align: right;\">\n",
              "      <th></th>\n",
              "      <th>0</th>\n",
              "    </tr>\n",
              "  </thead>\n",
              "  <tbody>\n",
              "    <tr>\n",
              "      <th>Title</th>\n",
              "      <td>0</td>\n",
              "    </tr>\n",
              "    <tr>\n",
              "      <th>review/text</th>\n",
              "      <td>0</td>\n",
              "    </tr>\n",
              "    <tr>\n",
              "      <th>User_id</th>\n",
              "      <td>0</td>\n",
              "    </tr>\n",
              "  </tbody>\n",
              "</table>\n",
              "</div><br><label><b>dtype:</b> int64</label>"
            ]
          },
          "metadata": {},
          "execution_count": 29
        }
      ],
      "source": [
        "# null values\n",
        "df_cooking.isnull().sum()"
      ]
    },
    {
      "cell_type": "code",
      "execution_count": 30,
      "metadata": {
        "id": "jkmhHTRn0ll4",
        "outputId": "38d575e6-9b0b-4f49-8313-76333f3f6fdb",
        "colab": {
          "base_uri": "https://localhost:8080/",
          "height": 489
        }
      },
      "outputs": [
        {
          "output_type": "execute_result",
          "data": {
            "text/plain": [
              "Title\n",
              "The Bread Lover's Bread Machine Cookbook: A Master Baker's 300 Favorite Recipes for Perfect-Every-Time Bread-From Every Kind of Machine      398\n",
              "Bread Baker's Apprentice                                                                                                                     358\n",
              "How To Cook Everything: Simple Recipes for Great Food                                                                                        293\n",
              "Eating For Life                                                                                                                              263\n",
              "Saving Dinner: The Menus, Recipes, and Shopping Lists to Bring Your Family Back to the Table                                                 250\n",
              "                                                                                                                                            ... \n",
              "The Co-ed cookbook (Scholastic starline)                                                                                                       1\n",
              "Cooking Vegetables                                                                                                                             1\n",
              "Cooking for Heart and Soul: 100 Delicious Low-Fat Recipes from San Francisco's Top ChefsA Cookbook to Benefit the San Francisco Food Bank      1\n",
              "The art of Irish cooking                                                                                                                       1\n",
              "Old-Fashioned Ckbk                                                                                                                             1\n",
              "Name: count, Length: 2230, dtype: int64"
            ],
            "text/html": [
              "<div>\n",
              "<style scoped>\n",
              "    .dataframe tbody tr th:only-of-type {\n",
              "        vertical-align: middle;\n",
              "    }\n",
              "\n",
              "    .dataframe tbody tr th {\n",
              "        vertical-align: top;\n",
              "    }\n",
              "\n",
              "    .dataframe thead th {\n",
              "        text-align: right;\n",
              "    }\n",
              "</style>\n",
              "<table border=\"1\" class=\"dataframe\">\n",
              "  <thead>\n",
              "    <tr style=\"text-align: right;\">\n",
              "      <th></th>\n",
              "      <th>count</th>\n",
              "    </tr>\n",
              "    <tr>\n",
              "      <th>Title</th>\n",
              "      <th></th>\n",
              "    </tr>\n",
              "  </thead>\n",
              "  <tbody>\n",
              "    <tr>\n",
              "      <th>The Bread Lover's Bread Machine Cookbook: A Master Baker's 300 Favorite Recipes for Perfect-Every-Time Bread-From Every Kind of Machine</th>\n",
              "      <td>398</td>\n",
              "    </tr>\n",
              "    <tr>\n",
              "      <th>Bread Baker's Apprentice</th>\n",
              "      <td>358</td>\n",
              "    </tr>\n",
              "    <tr>\n",
              "      <th>How To Cook Everything: Simple Recipes for Great Food</th>\n",
              "      <td>293</td>\n",
              "    </tr>\n",
              "    <tr>\n",
              "      <th>Eating For Life</th>\n",
              "      <td>263</td>\n",
              "    </tr>\n",
              "    <tr>\n",
              "      <th>Saving Dinner: The Menus, Recipes, and Shopping Lists to Bring Your Family Back to the Table</th>\n",
              "      <td>250</td>\n",
              "    </tr>\n",
              "    <tr>\n",
              "      <th>...</th>\n",
              "      <td>...</td>\n",
              "    </tr>\n",
              "    <tr>\n",
              "      <th>The Co-ed cookbook (Scholastic starline)</th>\n",
              "      <td>1</td>\n",
              "    </tr>\n",
              "    <tr>\n",
              "      <th>Cooking Vegetables</th>\n",
              "      <td>1</td>\n",
              "    </tr>\n",
              "    <tr>\n",
              "      <th>Cooking for Heart and Soul: 100 Delicious Low-Fat Recipes from San Francisco's Top ChefsA Cookbook to Benefit the San Francisco Food Bank</th>\n",
              "      <td>1</td>\n",
              "    </tr>\n",
              "    <tr>\n",
              "      <th>The art of Irish cooking</th>\n",
              "      <td>1</td>\n",
              "    </tr>\n",
              "    <tr>\n",
              "      <th>Old-Fashioned Ckbk</th>\n",
              "      <td>1</td>\n",
              "    </tr>\n",
              "  </tbody>\n",
              "</table>\n",
              "<p>2230 rows × 1 columns</p>\n",
              "</div><br><label><b>dtype:</b> int64</label>"
            ]
          },
          "metadata": {},
          "execution_count": 30
        }
      ],
      "source": [
        "# Count records per book\n",
        "df_cooking['Title'].value_counts()"
      ]
    },
    {
      "cell_type": "code",
      "execution_count": 31,
      "metadata": {
        "id": "MGFgXPid0ll5",
        "outputId": "6c921f50-5ddf-4239-f7d5-b5bdf9eb9eb9",
        "colab": {
          "base_uri": "https://localhost:8080/"
        }
      },
      "outputs": [
        {
          "output_type": "execute_result",
          "data": {
            "text/plain": [
              "np.float64(112.57805117232772)"
            ]
          },
          "metadata": {},
          "execution_count": 31
        }
      ],
      "source": [
        "# average length of the reviews\n",
        "df_cooking['review/text'].apply(lambda x: len(str(x).split())).mean()"
      ]
    },
    {
      "cell_type": "markdown",
      "metadata": {
        "id": "kkynwqKp0ll5"
      },
      "source": [
        "# Data Processing"
      ]
    },
    {
      "cell_type": "code",
      "execution_count": 32,
      "metadata": {
        "id": "NQGsH51G0ll5"
      },
      "outputs": [],
      "source": [
        "from pyspark.sql import SparkSession\n",
        "from pyspark.sql.functions import col, lower, regexp_replace\n",
        "from pyspark.ml.feature import MinHashLSH, HashingTF\n",
        "from pyspark.sql.functions import udf\n",
        "from pyspark.sql.types import ArrayType, StringType\n",
        "from pyspark.sql.functions import lower, regexp_replace"
      ]
    },
    {
      "cell_type": "code",
      "execution_count": 33,
      "metadata": {
        "id": "oaxsuS_-0ll5"
      },
      "outputs": [],
      "source": [
        "from pyspark.sql import SparkSession"
      ]
    },
    {
      "cell_type": "markdown",
      "metadata": {
        "id": "00ZqzAv60ll5"
      },
      "source": [
        "## Initialize Spark Session"
      ]
    },
    {
      "cell_type": "code",
      "execution_count": 34,
      "metadata": {
        "id": "-v5KHVIG0ll5"
      },
      "outputs": [],
      "source": [
        "spark = SparkSession.builder \\\n",
        "    .appName(\"BooksReviewSimilarity\") \\\n",
        "    .config(\"spark.driver.memory\", \"8g\") \\\n",
        "    .master(\"local[*]\") \\\n",
        "    .getOrCreate()"
      ]
    },
    {
      "cell_type": "markdown",
      "metadata": {
        "id": "-Movryxp0ll5"
      },
      "source": [
        "## Data Exploration"
      ]
    },
    {
      "cell_type": "code",
      "execution_count": 35,
      "metadata": {
        "id": "nkpWm3rq0ll5"
      },
      "outputs": [],
      "source": [
        "# load the DataFrame from pandas to Spark\n",
        "df_cooking = spark.createDataFrame(df_cooking)"
      ]
    },
    {
      "cell_type": "code",
      "execution_count": 36,
      "metadata": {
        "id": "CKVHNqJi0ll5",
        "outputId": "8d9e03f4-c4c6-4cb7-db07-b66bb178cfb8",
        "colab": {
          "base_uri": "https://localhost:8080/"
        }
      },
      "outputs": [
        {
          "output_type": "stream",
          "name": "stdout",
          "text": [
            "+----------------+--------------------+--------------+\n",
            "|           Title|         review/text|       User_id|\n",
            "+----------------+--------------------+--------------+\n",
            "|Alaska Sourdough|I have been using...| AC58Z72OB2DDX|\n",
            "|Alaska Sourdough|My poor dogeared,...|A3CNQIKVTG9QYO|\n",
            "|Alaska Sourdough|As a former Alask...|A2UMP9TJTJ6A6B|\n",
            "|Alaska Sourdough|For those of us w...| AC2TK7NHKB5C0|\n",
            "|Alaska Sourdough|Make the most sub...|A22T74YNRM8NTK|\n",
            "+----------------+--------------------+--------------+\n",
            "only showing top 5 rows\n",
            "\n"
          ]
        }
      ],
      "source": [
        "df_cooking.show(5)"
      ]
    },
    {
      "cell_type": "code",
      "execution_count": 37,
      "metadata": {
        "id": "CnZjjtsU0ll6",
        "outputId": "c1f2a0be-5f18-4abd-b3c8-2e59063b6cb9",
        "colab": {
          "base_uri": "https://localhost:8080/"
        }
      },
      "outputs": [
        {
          "output_type": "execute_result",
          "data": {
            "text/plain": [
              "(22434, 3)"
            ]
          },
          "metadata": {},
          "execution_count": 37
        }
      ],
      "source": [
        "df_cooking.count(), len(df_cooking.columns)"
      ]
    },
    {
      "cell_type": "markdown",
      "metadata": {
        "id": "4B1hj6cV0ll6"
      },
      "source": [
        "## Data Subsampling"
      ]
    },
    {
      "cell_type": "code",
      "execution_count": 38,
      "metadata": {
        "id": "V0RcZEhB0ll6",
        "outputId": "a5020f4a-75bb-4c01-9613-dbf3311ca114",
        "colab": {
          "base_uri": "https://localhost:8080/"
        }
      },
      "outputs": [
        {
          "output_type": "execute_result",
          "data": {
            "text/plain": [
              "(11217, 3)"
            ]
          },
          "metadata": {},
          "execution_count": 38
        }
      ],
      "source": [
        "# subsample the dataset (50%)\n",
        "# df_cooking = df_cooking.sample(0.5, seed=123)\n",
        "# df_cooking.count(), len(df_cooking.columns)\n",
        "\n",
        "\n",
        "total_rows = df_cooking.count()\n",
        "\n",
        "# Calculate the number of rows for the first half\n",
        "half_rows = total_rows // 2\n",
        "\n",
        "# Subset the first half of the dataset\n",
        "df_cooking = df_cooking.limit(half_rows)\n",
        "\n",
        "df_cooking.count(), len(df_cooking.columns)"
      ]
    },
    {
      "cell_type": "code",
      "execution_count": 40,
      "metadata": {
        "id": "3_lTSlio0ll6"
      },
      "outputs": [],
      "source": [
        "# ensure that a user only has one entry per book\n",
        "df_cooking = df_cooking.dropDuplicates(\n",
        "    subset=[\"Title\", \"User_id\"]\n",
        ")"
      ]
    },
    {
      "cell_type": "code",
      "execution_count": 41,
      "metadata": {
        "id": "SXPN79Oe0ll6"
      },
      "outputs": [],
      "source": [
        "df_clean = df_cooking.withColumn(\n",
        "    \"clean_text\",\n",
        "    regexp_replace(lower(col(\"review/text\")), r'[^\\w\\s]', '')\n",
        ")"
      ]
    },
    {
      "cell_type": "code",
      "execution_count": 42,
      "metadata": {
        "id": "8weze37Y0ll6",
        "outputId": "3ed450c3-846a-4822-8f97-ff8985fffeaa",
        "colab": {
          "base_uri": "https://localhost:8080/"
        }
      },
      "outputs": [
        {
          "output_type": "stream",
          "name": "stdout",
          "text": [
            "+--------------------+--------------------+--------------+--------------------+\n",
            "|               Title|         review/text|       User_id|          clean_text|\n",
            "+--------------------+--------------------+--------------+--------------------+\n",
            "|1,000 Vegetarian ...|This book is one ...|A12KSAYBWRE2EP|this book is one ...|\n",
            "|1,000 Vegetarian ...|I have used this ...|A14O63Q1W61YO5|i have used this ...|\n",
            "|1,000 Vegetarian ...|In our house, we ...|A17FLJJOOO0M9V|in our house we h...|\n",
            "|1,000 Vegetarian ...|I am pleasantly s...|A1BBJK1VE07KCV|i am pleasantly s...|\n",
            "|1,000 Vegetarian ...|I own just about ...|A1FMR10ARQHGKF|i own just about ...|\n",
            "+--------------------+--------------------+--------------+--------------------+\n",
            "only showing top 5 rows\n",
            "\n"
          ]
        }
      ],
      "source": [
        "df_clean.show(5)"
      ]
    },
    {
      "cell_type": "markdown",
      "metadata": {
        "id": "fuCrGMLz0ll6"
      },
      "source": [
        "## Text Preprocessing"
      ]
    },
    {
      "cell_type": "code",
      "execution_count": 43,
      "metadata": {
        "id": "NV1oqEjk0ll7"
      },
      "outputs": [],
      "source": [
        "from pyspark.sql.functions import udf\n",
        "from pyspark.sql.types import ArrayType, StringType"
      ]
    },
    {
      "cell_type": "code",
      "execution_count": 44,
      "metadata": {
        "id": "Wm7LKU8X0ll7"
      },
      "outputs": [],
      "source": [
        "from pyspark.ml.feature import Tokenizer, StopWordsRemover, HashingTF, MinHashLSH"
      ]
    },
    {
      "cell_type": "code",
      "execution_count": 45,
      "metadata": {
        "id": "OAo0ENSN0ll7"
      },
      "outputs": [],
      "source": [
        "tokenizer = Tokenizer(inputCol=\"clean_text\", outputCol=\"words\")\n",
        "df_tokenized = tokenizer.transform(df_clean)"
      ]
    },
    {
      "cell_type": "code",
      "execution_count": 46,
      "metadata": {
        "id": "suUxucBR0ll7"
      },
      "outputs": [],
      "source": [
        "from pyspark.ml.feature import StopWordsRemover\n",
        "\n",
        "# Define custom stopwords\n",
        "custom_stopwords = [\"book\", \"read\", \"recipe\", \"good\", \"great\"]\n",
        "\n",
        "# Combine with default stopwords\n",
        "default_stopwords = StopWordsRemover.loadDefaultStopWords(\"english\")\n",
        "all_stopwords = default_stopwords + custom_stopwords\n",
        "\n",
        "remover = StopWordsRemover(inputCol=\"words\", outputCol=\"filtered_text\", stopWords=all_stopwords)\n",
        "df_no_stop = remover.transform(df_tokenized)"
      ]
    },
    {
      "cell_type": "markdown",
      "metadata": {
        "id": "WT1PDIZ80ll7"
      },
      "source": [
        "## Feature Engineering"
      ]
    },
    {
      "cell_type": "code",
      "execution_count": 47,
      "metadata": {
        "id": "4cHCk6Yi0ll7",
        "outputId": "7ea0fbc3-2a38-4530-914e-39e972ca459c",
        "colab": {
          "base_uri": "https://localhost:8080/"
        }
      },
      "outputs": [
        {
          "output_type": "stream",
          "name": "stdout",
          "text": [
            "+--------------------+--------------------+--------------+--------------------+--------------------+--------------------+--------------------+\n",
            "|               Title|         review/text|       User_id|          clean_text|               words|       filtered_text|            shingles|\n",
            "+--------------------+--------------------+--------------+--------------------+--------------------+--------------------+--------------------+\n",
            "|1,000 Vegetarian ...|This book is one ...|A12KSAYBWRE2EP|this book is one ...|[this, book, is, ...|[one, bibles, veg...|[one bibles, bibl...|\n",
            "|1,000 Vegetarian ...|I have used this ...|A14O63Q1W61YO5|i have used this ...|[i, have, used, t...|[used, cookbook, ...|[used cookbook, c...|\n",
            "|1,000 Vegetarian ...|In our house, we ...|A17FLJJOOO0M9V|in our house we h...|[in, our, house, ...|[house, several, ...|[house several, s...|\n",
            "|1,000 Vegetarian ...|I am pleasantly s...|A1BBJK1VE07KCV|i am pleasantly s...|[i, am, pleasantl...|[pleasantly, supr...|[pleasantly supri...|\n",
            "|1,000 Vegetarian ...|I own just about ...|A1FMR10ARQHGKF|i own just about ...|[i, own, just, ab...|[every, vegetaria...|[every vegetarian...|\n",
            "+--------------------+--------------------+--------------+--------------------+--------------------+--------------------+--------------------+\n",
            "only showing top 5 rows\n",
            "\n"
          ]
        }
      ],
      "source": [
        "# Create word-level shingles (n-grams)\n",
        "def create_word_shingles(words, n=2):\n",
        "    if len(words) < n:\n",
        "        return [\" \".join(words)]\n",
        "    return [\" \".join(words[i:i+n]) for i in range(len(words) - n + 1)]\n",
        "\n",
        "# Define UDF\n",
        "shingle_udf = udf(lambda words: create_word_shingles(words, n=2), ArrayType(StringType()))\n",
        "\n",
        "# Apply UDF to generate shingles\n",
        "df_shingled = df_no_stop.withColumn(\"shingles\", shingle_udf(col(\"filtered_text\")))\n",
        "\n",
        "df_shingled.show(5)"
      ]
    },
    {
      "cell_type": "code",
      "execution_count": 48,
      "metadata": {
        "id": "g-_mlh6g0ll7"
      },
      "outputs": [],
      "source": [
        "# Create feature vectors (using hashing trick)\n",
        "from pyspark.ml.feature import HashingTF\n",
        "\n",
        "hashing_tf = HashingTF(inputCol=\"shingles\", outputCol=\"features\", numFeatures=1 << 20)  # 2^20 features\n",
        "featurized_data = hashing_tf.transform(df_shingled)   #each bigram gets hashed to an index between 0 and 1,048,575 and the value = freq of occurence (sparce vector)."
      ]
    },
    {
      "cell_type": "code",
      "execution_count": 49,
      "metadata": {
        "id": "3GwtIUc40ll7",
        "outputId": "0c361217-1822-488f-fe4b-6af296114f1c",
        "colab": {
          "base_uri": "https://localhost:8080/"
        }
      },
      "outputs": [
        {
          "output_type": "stream",
          "name": "stdout",
          "text": [
            "+--------------------+--------------------+--------------+--------------------+--------------------+--------------------+--------------------+--------------------+\n",
            "|               Title|         review/text|       User_id|          clean_text|               words|       filtered_text|            shingles|            features|\n",
            "+--------------------+--------------------+--------------+--------------------+--------------------+--------------------+--------------------+--------------------+\n",
            "|1,000 Vegetarian ...|This book is one ...|A12KSAYBWRE2EP|this book is one ...|[this, book, is, ...|[one, bibles, veg...|[one bibles, bibl...|(1048576,[19336,5...|\n",
            "|1,000 Vegetarian ...|I have used this ...|A14O63Q1W61YO5|i have used this ...|[i, have, used, t...|[used, cookbook, ...|[used cookbook, c...|(1048576,[10768,2...|\n",
            "|1,000 Vegetarian ...|In our house, we ...|A17FLJJOOO0M9V|in our house we h...|[in, our, house, ...|[house, several, ...|[house several, s...|(1048576,[48330,1...|\n",
            "|1,000 Vegetarian ...|I am pleasantly s...|A1BBJK1VE07KCV|i am pleasantly s...|[i, am, pleasantl...|[pleasantly, supr...|[pleasantly supri...|(1048576,[57465,7...|\n",
            "|1,000 Vegetarian ...|I own just about ...|A1FMR10ARQHGKF|i own just about ...|[i, own, just, ab...|[every, vegetaria...|[every vegetarian...|(1048576,[6810,37...|\n",
            "+--------------------+--------------------+--------------+--------------------+--------------------+--------------------+--------------------+--------------------+\n",
            "only showing top 5 rows\n",
            "\n"
          ]
        }
      ],
      "source": [
        "featurized_data.show(5)"
      ]
    },
    {
      "cell_type": "code",
      "execution_count": 50,
      "metadata": {
        "id": "iXN2-EBE0ll8"
      },
      "outputs": [],
      "source": [
        "from pyspark.sql.functions import monotonically_increasing_id\n",
        "\n",
        "df_with_id = featurized_data.withColumn(\"Review_ID\", monotonically_increasing_id())"
      ]
    },
    {
      "cell_type": "markdown",
      "metadata": {
        "id": "aJcc2w1D0ll8"
      },
      "source": [
        "## MinHash LSH for Similarity Search"
      ]
    },
    {
      "cell_type": "code",
      "execution_count": 51,
      "metadata": {
        "id": "tJqA6POa0ll8"
      },
      "outputs": [],
      "source": [
        "# Apply MinHash\n",
        "mh = MinHashLSH(inputCol=\"features\", outputCol=\"hashes\", numHashTables=6)\n",
        "model = mh.fit(df_with_id)"
      ]
    },
    {
      "cell_type": "code",
      "execution_count": 52,
      "metadata": {
        "id": "zplQmK6I0ll8"
      },
      "outputs": [],
      "source": [
        "# Find similar reviews\n",
        "similar_reviews = model.approxSimilarityJoin(\n",
        "    df_with_id, df_with_id, 0.8, distCol=\"JaccardDistance\"\n",
        ")"
      ]
    },
    {
      "cell_type": "code",
      "execution_count": 53,
      "metadata": {
        "id": "Qsa9S7qc0ll8"
      },
      "outputs": [],
      "source": [
        "filtered_df = similar_reviews.filter(col(\"datasetA.Review_ID\") != col(\"datasetB.Review_ID\"))"
      ]
    },
    {
      "cell_type": "code",
      "execution_count": 54,
      "metadata": {
        "id": "bZ43zC5R0ll8"
      },
      "outputs": [],
      "source": [
        "# keeping only one direction of each pair\n",
        "filtered_df = filtered_df.filter(col(\"datasetA.review_ID\") < col(\"datasetB.review_ID\"))"
      ]
    },
    {
      "cell_type": "code",
      "execution_count": 55,
      "metadata": {
        "id": "t-dPD7T40ll8",
        "outputId": "a26caaf0-11d2-4837-d1ea-61308cfa016e",
        "colab": {
          "base_uri": "https://localhost:8080/"
        }
      },
      "outputs": [
        {
          "output_type": "stream",
          "name": "stdout",
          "text": [
            "+------------------------------------------------------------------------------------------------+------------------------------------------------------------------------------------------------+----------------------------------------------------------------------------------------------------------------------------------------------------------------------------------------------------------------------------------------------------------------------------------------------------------------------------------------------------------------------------------------------------------------------------------------------------------------------------------------------------------------------------------------------------------------------------------------------------------------------------------------------------------------------------------------------------------------------------------------------------------------------------------------------------------------------------------------------------------------------------------------------------------------------------------------------------------------------------------------------------------------------------------------------------------------------------------------------------+------------------------------------------------------------------------------------------------------------------------------------------------------------------------------------------------------------------------------------------------------------------------------------------------------------------------------------------------------------------------------------------------------------------------------------------------------------------------------------------------------------------------------------------------------------------------------------------------------------------------------------------------------------------------------------------------------------------------------------------------------------------------------------------------------------------------------------------------------------------------------------------------------------------------------------------------------------------------------------------------------------------------------------------------------------------------------------------------------------------------------------------------------------------------------------------------------------------------------------------------------------------------------------------------------------------------------------------------------------------------------------------------------------------------------------------------------------------------------------------------------------------------------------------------------------------------------------------------------------------------+-------------------+\n",
            "|Title_A                                                                                         |Title_B                                                                                         |review/text_A                                                                                                                                                                                                                                                                                                                                                                                                                                                                                                                                                                                                                                                                                                                                                                                                                                                                                                                                                                                                                                                                                       |review/text_B                                                                                                                                                                                                                                                                                                                                                                                                                                                                                                                                                                                                                                                                                                                                                                                                                                                                                                                                                                                                                                                                                                                                                                                                                                                                                                                                                                                                                                                                                                                                                                                                           |JaccardDistance    |\n",
            "+------------------------------------------------------------------------------------------------+------------------------------------------------------------------------------------------------+----------------------------------------------------------------------------------------------------------------------------------------------------------------------------------------------------------------------------------------------------------------------------------------------------------------------------------------------------------------------------------------------------------------------------------------------------------------------------------------------------------------------------------------------------------------------------------------------------------------------------------------------------------------------------------------------------------------------------------------------------------------------------------------------------------------------------------------------------------------------------------------------------------------------------------------------------------------------------------------------------------------------------------------------------------------------------------------------------+------------------------------------------------------------------------------------------------------------------------------------------------------------------------------------------------------------------------------------------------------------------------------------------------------------------------------------------------------------------------------------------------------------------------------------------------------------------------------------------------------------------------------------------------------------------------------------------------------------------------------------------------------------------------------------------------------------------------------------------------------------------------------------------------------------------------------------------------------------------------------------------------------------------------------------------------------------------------------------------------------------------------------------------------------------------------------------------------------------------------------------------------------------------------------------------------------------------------------------------------------------------------------------------------------------------------------------------------------------------------------------------------------------------------------------------------------------------------------------------------------------------------------------------------------------------------------------------------------------------------+-------------------+\n",
            "|High Fit, Low Fat Vegetarian                                                                    |High Fit, Low Fat Vegetarian                                                                    |I own both the High Fit - Low Fat cookbooks (regular and vegetarian). The books are good for both novice and experienced chefs. Using these cookbooks, I have learned how to eat incredibly healthy while serving really tasty meals! The Eggplant Parmesan recipe is now a requirement for potlucks I attend. I love it because it is so easy to make. The cookbooks make great gifts too, I bought 10 as gifts for family members. Although I own many cookbooks, I do the majority of my cooking from the High Fit - Low Fat recipes.                                                                                                                                                                                                                                                                                                                                                                                                                                                                                                                                                            |I own both of the High Fit - Low Fat cookbooks (regular and vegetarian). The books are good for both novice and experienced chefs. Using these cookbooks, I have learned how to eat incredibly healthy while serving really tasty meals! The eggplant parmesan recipe (Vegetarian cookbook) is now a requirement for potlucks I attend. I love it because it is so easy to make. The cookbooks make great gifts too (I bought 10 as gifts for family members)! Although I own many cookbooks, I do the majority of my cooking from the High Fit - Low Fat recipes.                                                                                                                                                                                                                                                                                                                                                                                                                                                                                                                                                                                                                                                                                                                                                                                                                                                                                                                                                                                                                                                      |0.08510638297872342|\n",
            "|The Biggest Loser Cookbook: More Than 125 Healthy, Delicious Recipes Adapted from NBC's Hit Show|The Biggest Loser Cookbook: More Than 125 Healthy, Delicious Recipes Adapted from NBC's Hit Show|I am an incredibly picky eater and usually if I get 1 or 2 recipes out of a cookbook that I buy I'm pretty lucky. I'm pretty \"plain jane\" when it comes to food. The Biggest Loser Cookbook is the perfect book for me because it takes a lot of those basic meals that I love and makes them healthier. I've even learned enough from the book that I can make adaptions and play around with the recipes to create even more great meals for myself and my family.Some of our favorite recipes from the book are the Open Faced Burritos, the Almost Fast Food Burger, the Picante Chicken, the roast beef sandwich, the breakfast sausages, and the turkey roll-ups. We haven't gotten through them all yet but we're working our way through the book.I would DEFINITELY recommend this book if you're a picky eater or you're one of those people who doesn't like a lot of extra stuff in their food. These are simple, plain recipes that taste like a million bucks.                                                                                                                        |This is a fun book that can help you eat healthier with a lot of good receipies.This review is from: The Biggest Loser Cookbook: More Than 125 Healthy, Delicious Recipes Adapted the tv Show Some of our favorite recipes from the book are the Open Faced Burritos, the Almost Fast Food Burger, the Picante Chicken, the roast beef sandwich, the breakfast sausages, and the turkey roll-ups. We haven't gotten through them all yet but we're working our way through the book. II am an incredibly picky eater and usually if I get 1 or 2 recipes out of a cookbook that I buy I'm pretty lucky. I'm pretty \"plain jane\" when it comes to food. The Biggest Loser Cookbook is the perfect book for me because it takes a lot of those basic meals that I love and makes them healthier. I've even learned enough from the book that I can make adaptions and play around with the recipes to create even more great meals for myself and my family.                                                                                                                                                                                                                                                                                                                                                                                                                                                                                                                                                                                                                                                              |0.3980582524271845 |\n",
            "|The Frugal Gourmet Cooks Three Ancient Cuisines: China * Greece * Rome                          |The Frugal Gourmet on Our Immigrant Ancestors                                                   |This is an excellent cook book and this is the handy PB edition! It's full of great recipes and stories by a very talented cook and writer. This one focuses on 3 major influences in the culinary world. Jeff Smith entertained us for years on his PBS program 'The Frugal Gourmet'. Not only did he teach us many savory dishes, he also educated us. Not satisfied with just cooking delicious meals for his viewers, he would give detailed history lessons about the origins of the dish and made it all a lot of fun!This may be Mr. Smiths best cook book and it is a worthy edition to everyone's cook book library. I own and have read many, if not all of his cook books, not only for the man's knowledge of cooking, but his incredible wit! This guy was funny and I would have loved to have hung out and throw a few beers down with him.Unfortunately, this man had some very seriously bad press released about his personal life and well..... I am not one to spread rumors.....he seemed like a great guy and sadly he died before he was able to clear his name.R.I.P. Frugs!|My title blurb is a funny quote I remembered, Jeff Smith spoke on his entertaining PBS show. Before 'The Food Network' we had the witty and talented 'Frugal Gourmet'. This book deals with some simplistic, yet very good classic old world dishes. Nothing fancy, just great traditional food!This is yet another excellent cook book by Jeff Smith! It's full of great recipes and stories by a very talented cook and writer. This one focuses on old world cooking. I have used many of these recipes and found them to be very good. Being a home grown cook myself and having had many of my grandmother's classic recipes handed down to me, I found this book to be very helpful in expanding my culinary taste buds.Jeff Smith entertained us for years on his PBS program 'The Frugal Gourmet'. Not only did he teach us many savory dishes, he also educated us. Not satisfied with just cooking delicious meals for his viewers, he would give detailed history lessons about the origins of the dish and made it all a lot of fun!This may be Mr. Smiths best cook book and it is a worthy edition to everyone's cook book library. I own and have read many, if not all of his cook books, not only for the man's knowledge of cooking, but his incredible wit! This guy was funny and I would have loved to have hung out and throw a few beers down with him.Unfortunately, this man had some very seriously bad press released about his personal life and well..... I am not one to spread rumors.....he seemed like a great guy and sadly he died before he was able to clear his name.R.I.P. Frugs!|0.42361111111111116|\n",
            "+------------------------------------------------------------------------------------------------+------------------------------------------------------------------------------------------------+----------------------------------------------------------------------------------------------------------------------------------------------------------------------------------------------------------------------------------------------------------------------------------------------------------------------------------------------------------------------------------------------------------------------------------------------------------------------------------------------------------------------------------------------------------------------------------------------------------------------------------------------------------------------------------------------------------------------------------------------------------------------------------------------------------------------------------------------------------------------------------------------------------------------------------------------------------------------------------------------------------------------------------------------------------------------------------------------------+------------------------------------------------------------------------------------------------------------------------------------------------------------------------------------------------------------------------------------------------------------------------------------------------------------------------------------------------------------------------------------------------------------------------------------------------------------------------------------------------------------------------------------------------------------------------------------------------------------------------------------------------------------------------------------------------------------------------------------------------------------------------------------------------------------------------------------------------------------------------------------------------------------------------------------------------------------------------------------------------------------------------------------------------------------------------------------------------------------------------------------------------------------------------------------------------------------------------------------------------------------------------------------------------------------------------------------------------------------------------------------------------------------------------------------------------------------------------------------------------------------------------------------------------------------------------------------------------------------------------+-------------------+\n",
            "\n"
          ]
        }
      ],
      "source": [
        "top3 = (\n",
        "    filtered_df\n",
        "    .orderBy(col(\"JaccardDistance\").asc())\n",
        "    .limit(3)\n",
        ")\n",
        "\n",
        "top3.select(\n",
        "    col(\"datasetA.Title\").alias(\"Title_A\"),\n",
        "    col(\"datasetB.Title\").alias(\"Title_B\"),\n",
        "    col(\"datasetA.review/text\").alias(\"review/text_A\"),\n",
        "    col(\"datasetB.review/text\").alias(\"review/text_B\"),\n",
        "    col(\"JaccardDistance\")\n",
        ").show(5, truncate=False)"
      ]
    },
    {
      "cell_type": "markdown",
      "metadata": {
        "id": "_lk3kM6e0ll9"
      },
      "source": [
        "## TF-IDF + Cosine LSH"
      ]
    },
    {
      "cell_type": "code",
      "execution_count": 58,
      "metadata": {
        "id": "ncKAeKFA0ll9"
      },
      "outputs": [],
      "source": [
        "from pyspark.ml.feature import Tokenizer, HashingTF, IDF, BucketedRandomProjectionLSH\n",
        "from pyspark.sql.functions import col"
      ]
    },
    {
      "cell_type": "code",
      "execution_count": 59,
      "metadata": {
        "id": "qdjExGp20ll9"
      },
      "outputs": [],
      "source": [
        "from pyspark.sql.functions import size\n",
        "\n",
        "# exclude rows where 'filtered_text' has less than 6 words\n",
        "featurized_data = featurized_data.filter(size(col(\"filtered_text\")) >= 6)"
      ]
    },
    {
      "cell_type": "code",
      "execution_count": 60,
      "metadata": {
        "id": "YTvYuYJA0ll9"
      },
      "outputs": [],
      "source": [
        "# Apply IDF to get TF-IDF vectors\n",
        "idf = IDF(inputCol=\"features\", outputCol=\"tfidf_features\")\n",
        "idf_model = idf.fit(featurized_data)\n",
        "df_tfidf = idf_model.transform(featurized_data)"
      ]
    },
    {
      "cell_type": "code",
      "execution_count": 61,
      "metadata": {
        "id": "_EpLN-Oq0ll9",
        "outputId": "8567b496-502e-4ecd-8a84-b03925bcbd7a",
        "colab": {
          "base_uri": "https://localhost:8080/"
        }
      },
      "outputs": [
        {
          "output_type": "stream",
          "name": "stdout",
          "text": [
            "+--------------------+--------------------+--------------+--------------------+--------------------+--------------------+--------------------+--------------------+--------------------+\n",
            "|               Title|         review/text|       User_id|          clean_text|               words|       filtered_text|            shingles|            features|      tfidf_features|\n",
            "+--------------------+--------------------+--------------+--------------------+--------------------+--------------------+--------------------+--------------------+--------------------+\n",
            "|1,000 Vegetarian ...|This book is one ...|A12KSAYBWRE2EP|this book is one ...|[this, book, is, ...|[one, bibles, veg...|[one bibles, bibl...|(1048576,[19336,5...|(1048576,[19336,5...|\n",
            "|1,000 Vegetarian ...|I have used this ...|A14O63Q1W61YO5|i have used this ...|[i, have, used, t...|[used, cookbook, ...|[used cookbook, c...|(1048576,[10768,2...|(1048576,[10768,2...|\n",
            "|1,000 Vegetarian ...|In our house, we ...|A17FLJJOOO0M9V|in our house we h...|[in, our, house, ...|[house, several, ...|[house several, s...|(1048576,[48330,1...|(1048576,[48330,1...|\n",
            "|1,000 Vegetarian ...|I am pleasantly s...|A1BBJK1VE07KCV|i am pleasantly s...|[i, am, pleasantl...|[pleasantly, supr...|[pleasantly supri...|(1048576,[57465,7...|(1048576,[57465,7...|\n",
            "|1,000 Vegetarian ...|I own just about ...|A1FMR10ARQHGKF|i own just about ...|[i, own, just, ab...|[every, vegetaria...|[every vegetarian...|(1048576,[6810,37...|(1048576,[6810,37...|\n",
            "+--------------------+--------------------+--------------+--------------------+--------------------+--------------------+--------------------+--------------------+--------------------+\n",
            "only showing top 5 rows\n",
            "\n"
          ]
        }
      ],
      "source": [
        "df_tfidf.show(5)"
      ]
    },
    {
      "cell_type": "code",
      "execution_count": 62,
      "metadata": {
        "id": "P9tZR4cq0ll9"
      },
      "outputs": [],
      "source": [
        "from pyspark.sql.functions import monotonically_increasing_id\n",
        "\n",
        "df_with_id = df_tfidf.withColumn(\"Review_ID\", monotonically_increasing_id())"
      ]
    },
    {
      "cell_type": "code",
      "execution_count": 63,
      "metadata": {
        "id": "1lyCH4Ry0ll9"
      },
      "outputs": [],
      "source": [
        "# LSH with Cosine-like projection (BucketedRandomProjectionLSH)\n",
        "brp = BucketedRandomProjectionLSH(inputCol=\"features\", outputCol=\"hashes\", bucketLength=2.5, numHashTables=4)  #number of different “ways” you're looking for similarity.\n",
        "\n",
        "\n",
        "brp_model = brp.fit(df_with_id)"
      ]
    },
    {
      "cell_type": "code",
      "execution_count": 64,
      "metadata": {
        "id": "KfeL9DSn0ll9"
      },
      "outputs": [],
      "source": [
        "# Self-join to find similar review pairs\n",
        "similar_pairs = brp_model.approxSimilarityJoin(df_with_id, df_with_id, threshold=5.0, distCol=\"distance\")"
      ]
    },
    {
      "cell_type": "code",
      "execution_count": 65,
      "metadata": {
        "id": "Cbip2Ni-0ll-"
      },
      "outputs": [],
      "source": [
        "# Filter out duplicates and self-pairs\n",
        "similar_pairs_filtered = similar_pairs \\\n",
        "    .filter(col(\"datasetA.Review_ID\") < col(\"datasetB.Review_ID\")) \\\n",
        "    .filter(col(\"datasetA.Review_ID\") != col(\"datasetB.Review_ID\")) \\\n",
        "    .select(\"datasetA.Title\", \"datasetB.Title\", \"datasetA.User_id\", \"datasetB.User_id\", \"datasetA.review/text\", \"datasetB.review/text\", \"distance\")"
      ]
    },
    {
      "cell_type": "code",
      "execution_count": 66,
      "metadata": {
        "id": "SPWhnsqv0ll-",
        "outputId": "cec6497f-a6c0-41fd-9055-46ba8181f890",
        "colab": {
          "base_uri": "https://localhost:8080/"
        }
      },
      "outputs": [
        {
          "output_type": "stream",
          "name": "stdout",
          "text": [
            "+-------------------------------------------------------------------------------------+--------------------------------------+--------------+--------------+----------------------------------------------------------------------------------------------------+----------------------------------------------------------------------------------------------------+------------------+\n",
            "|                                                                                Title|                                 Title|       User_id|       User_id|                                                                                         review/text|                                                                                         review/text|          distance|\n",
            "+-------------------------------------------------------------------------------------+--------------------------------------+--------------+--------------+----------------------------------------------------------------------------------------------------+----------------------------------------------------------------------------------------------------+------------------+\n",
            "|                                                         High Fit, Low Fat Vegetarian|          High Fit, Low Fat Vegetarian|A2JDVB1LKLN97N| AK9FPASRM79OX|I own both the High Fit - Low Fat cookbooks (regular and vegetarian). The books are good for both...|I own both of the High Fit - Low Fat cookbooks (regular and vegetarian). The books are good for b...|               2.0|\n",
            "|Eating Well Through Cancer: Easy Recipes & Recommendations During and After Treatment|           Stalking the Wild Asparagus|A2I48KSLDRXY05|A3LJ3NR4JOZL0D|                      The book was in excellent condition, it came in a timely fashion. No problems.|                              Everything came in timely fashion and in excellant condition.Thank you| 2.449489742783178|\n",
            "|                                        1000 Vegetarian Recipes From Around the World|Good Housekeeping Illustrated Cookbook| AYKWM682POY3J| A1ZGX2HV4L1JE|                     Whether you are vegetarian or not, this is the best cookbook I have ever owned.|                            this is best cookbook i have ever had. mine was falling apart. thank you|2.6457513110645907|\n",
            "+-------------------------------------------------------------------------------------+--------------------------------------+--------------+--------------+----------------------------------------------------------------------------------------------------+----------------------------------------------------------------------------------------------------+------------------+\n",
            "only showing top 3 rows\n",
            "\n"
          ]
        }
      ],
      "source": [
        "similar_pairs_filtered.orderBy(\"distance\").show(3, truncate=100)"
      ]
    },
    {
      "cell_type": "code",
      "execution_count": 67,
      "metadata": {
        "id": "vKgU8Njo0ll-"
      },
      "outputs": [],
      "source": [
        "# exlude pairs that are too similar (distance < 2.5)\n",
        "similar_pairs_filtered = similar_pairs_filtered.filter(col(\"distance\") > 2.5)"
      ]
    },
    {
      "cell_type": "code",
      "execution_count": 68,
      "metadata": {
        "id": "Nfhaolrf0ll-",
        "outputId": "82595a90-f98d-4fc9-8fe2-4e49a56c40a0",
        "colab": {
          "base_uri": "https://localhost:8080/"
        }
      },
      "outputs": [
        {
          "output_type": "stream",
          "name": "stdout",
          "text": [
            "+------------------------------------------------------------------------------------------------+------------------------------------------------------------------------------------------------+--------------+--------------+----------------------------------------------------------------------------------------------------+------------------------------------------------------------------------------------------------------+------------------+\n",
            "|                                                                                           Title|                                                                                           Title|       User_id|       User_id|                                                                                         review/text|                                                                                           review/text|          distance|\n",
            "+------------------------------------------------------------------------------------------------+------------------------------------------------------------------------------------------------+--------------+--------------+----------------------------------------------------------------------------------------------------+------------------------------------------------------------------------------------------------------+------------------+\n",
            "|                                                   1000 Vegetarian Recipes From Around the World|                                                          Good Housekeeping Illustrated Cookbook| AYKWM682POY3J| A1ZGX2HV4L1JE|                     Whether you are vegetarian or not, this is the best cookbook I have ever owned.|                              this is best cookbook i have ever had. mine was falling apart. thank you|2.6457513110645907|\n",
            "|                                                                                How to Dry Foods|                                                                           The New Spanish Table|A19BXRY4V7F15P|A1EXVQ9M31RRT2|            This book looks great and I look forward to trying out the methods with my summer fruit!|                       I am enjoying reading this book and look forward to trying many of the recipes.|2.8284271247461903|\n",
            "|                                                               Betty Crocker's Bisquick Cookbook|The Biggest Loser Cookbook: More Than 125 Healthy, Delicious Recipes Adapted from NBC's Hit Show|A3T2PNWF7W9Q9W|A1KOJHE208UQYT|There are more uses for Bisquick than you can imagine - this book is great and the recipes are easy.|                              My family really enjoyed the recipes. They were easy to read and follow.|2.8284271247461903|\n",
            "|The Biggest Loser Cookbook: More Than 125 Healthy, Delicious Recipes Adapted from NBC's Hit Show|The Biggest Loser Cookbook: More Than 125 Healthy, Delicious Recipes Adapted from NBC's Hit Show|A1KOJHE208UQYT| ACYY7RY8WE68N|                            My family really enjoyed the recipes. They were easy to read and follow.|I loved it. There are many different kinds of recipes and very easy to follow. I recommend it to all..|2.8284271247461903|\n",
            "|                                      I'm Just Here for More Food: Food x Mixing + Heat = Baking|                                                                              Simple French Food|A2MBYDJV2VGHMO|A11VWUNAPEZZU7|     I have all his books, this is a great addition, I enjoy his writing and his method for cooking.|                  Great book to learn more about the French method of cooking. I enjoyed it as I went.|2.8284271247461903|\n",
            "+------------------------------------------------------------------------------------------------+------------------------------------------------------------------------------------------------+--------------+--------------+----------------------------------------------------------------------------------------------------+------------------------------------------------------------------------------------------------------+------------------+\n",
            "only showing top 5 rows\n",
            "\n"
          ]
        }
      ],
      "source": [
        "similar_pairs_filtered.orderBy(\"distance\").show(5, truncate=100)"
      ]
    }
  ],
  "metadata": {
    "kernelspec": {
      "display_name": "pyspark310",
      "language": "python",
      "name": "python3"
    },
    "language_info": {
      "codemirror_mode": {
        "name": "ipython",
        "version": 3
      },
      "file_extension": ".py",
      "mimetype": "text/x-python",
      "name": "python",
      "nbconvert_exporter": "python",
      "pygments_lexer": "ipython3",
      "version": "3.10.16"
    },
    "colab": {
      "provenance": [],
      "include_colab_link": true
    }
  },
  "nbformat": 4,
  "nbformat_minor": 0
}